{
 "cells": [
  {
   "cell_type": "markdown",
   "metadata": {},
   "source": [
    "# RAG Evaluation\n",
    "\n",
    "This is the final desiging step of our RAG, where we are going to evaluate the performance of the full RAG, using LLM as a judge, to select which of the alternatives of chunkig acchieve the best performance. There are a couple considerations to keep in mind before we beggin:\n",
    "\n",
    "* Even though until this point we have used and tested the search process with the self defined algorithms, from a deployment perspective they are not ideal (mainly since the design would imply to re-deploy the RAG app every time a new document was added to the knowledge data base) therefore, taking into account that the best method for every case turned to be a hybrid search without RRF, we are going to use Elastich Search for our retireval part, adapting the findings form the optimization process. This might not be ideal but this project was mainly for learning reasons, so in my concept this is a good enough approach.\n",
    "* For each scenario we will check different numbers of retrieved information, taking into account that the sentence splitting returns shorter texts.\n"
   ]
  },
  {
   "cell_type": "markdown",
   "metadata": {},
   "source": [
    "## Libraries"
   ]
  },
  {
   "cell_type": "code",
   "execution_count": 2,
   "metadata": {},
   "outputs": [
    {
     "name": "stderr",
     "output_type": "stream",
     "text": [
      "c:\\Users\\User\\Documents\\Cursos\\llm_zoomcamp_final_project\\llm-project\\Lib\\site-packages\\tqdm\\auto.py:21: TqdmWarning: IProgress not found. Please update jupyter and ipywidgets. See https://ipywidgets.readthedocs.io/en/stable/user_install.html\n",
      "  from .autonotebook import tqdm as notebook_tqdm\n",
      "c:\\Users\\User\\Documents\\Cursos\\llm_zoomcamp_final_project\\llm-project\\Lib\\site-packages\\transformers\\tokenization_utils_base.py:1601: FutureWarning: `clean_up_tokenization_spaces` was not set. It will be set to `True` by default. This behavior will be depracted in transformers v4.45, and will be then set to `False` by default. For more details check this issue: https://github.com/huggingface/transformers/issues/31884\n",
      "  warnings.warn(\n"
     ]
    }
   ],
   "source": [
    "\n",
    "import os\n",
    "import sys\n",
    "import json\n",
    "import time\n",
    "import pandas as pd\n",
    "\n",
    "from dotenv import load_dotenv\n",
    "from tqdm.auto import tqdm\n",
    "from sentence_transformers import SentenceTransformer\n",
    "import matplotlib.pyplot as plt\n",
    "import seaborn as sns\n",
    "\n",
    "project_path = os.path.dirname(os.getcwd())\n",
    "sys.path.append(project_path)\n",
    "\n",
    "from src.db import ElasticsearchManager\n",
    "from src.rag import RAG\n",
    "from src.evaluation import evaluate\n",
    "\n",
    "load_dotenv(override=True)\n",
    "\n",
    "GOOGLE_API_KEY = os.environ['GOOGLE_API_KEY']\n",
    "ELASTICSEARCH_HOST = os.getenv('ELASTICSEARCH_HOST', 'localhost')\n",
    "ELASTICSEARCH_PORT = os.getenv('ELASTICSEARCH_PORT', '9200')\n",
    "EMBEDDING_MODEL = os.getenv('EMBEDDING_MODEL', 'all-mpnet-base-v2')\n",
    "\n",
    "# Just for searching trials\n",
    "embbeding_model = SentenceTransformer(EMBEDDING_MODEL)"
   ]
  },
  {
   "cell_type": "markdown",
   "metadata": {},
   "source": [
    "## RAG prompt template"
   ]
  },
  {
   "cell_type": "markdown",
   "metadata": {},
   "source": [
    "We will implement a template to format each record retrieved into the context and another for the whole prompt."
   ]
  },
  {
   "cell_type": "code",
   "execution_count": 3,
   "metadata": {},
   "outputs": [],
   "source": [
    "entry_template = \"\"\"\n",
    "category: {category}\n",
    "paper: {paper}\n",
    "text: {text}\n",
    "\"\"\".strip()\n",
    "prompt_template = \"\"\"\n",
    "You are a research assistant specializing in various academic fields. \n",
    "Your task is to provide accurate and concise answers to questions based on the information extracted from the provided research papers.\n",
    "\n",
    "**Question:** {question}\n",
    "\n",
    "**Context:**\n",
    "\n",
    "{context}\n",
    "\n",
    "**Guidelines:**\n",
    "\n",
    "* **Cite your sources:** If you reference specific information from a paper, include the paper title in parentheses, e.g., \"(Attention is all You need)\".\n",
    "* **Prioritize relevance:** Only use information from the context that is directly relevant to the question.\n",
    "* **Be concise:** Provide clear and focused answers without unnecessary elaboration.\n",
    "* **Maintain academic tone:** Use language appropriate for an academic audience.\n",
    "* **If the context doesn't contain enough information to fully answer the question, clearly state that you need more information or that the context doesn't address the question.**\n",
    "\n",
    "**Answer:**\n",
    "\"\"\""
   ]
  },
  {
   "cell_type": "markdown",
   "metadata": {},
   "source": [
    "## Elastic search manager\n",
    "\n",
    "In the db module an elastic search manager class has been created to make it easier to interact with the database. Here we start by calling the class and initializing a manager object. Notice that the RAG class does this as well. Here we will use the direct call for data ingestion, and the one within the RAG class lather for evaluation."
   ]
  },
  {
   "cell_type": "code",
   "execution_count": 4,
   "metadata": {},
   "outputs": [
    {
     "data": {
      "text/plain": [
       "ObjectApiResponse({'name': '460583f595c1', 'cluster_name': 'docker-cluster', 'cluster_uuid': 'nryKXaJOTcabVMh369q9UQ', 'version': {'number': '8.4.3', 'build_flavor': 'default', 'build_type': 'docker', 'build_hash': '42f05b9372a9a4a470db3b52817899b99a76ee73', 'build_date': '2022-10-04T07:17:24.662462378Z', 'build_snapshot': False, 'lucene_version': '9.3.0', 'minimum_wire_compatibility_version': '7.17.0', 'minimum_index_compatibility_version': '7.0.0'}, 'tagline': 'You Know, for Search'})"
      ]
     },
     "execution_count": 4,
     "metadata": {},
     "output_type": "execute_result"
    }
   ],
   "source": [
    "es_manager = ElasticsearchManager(\n",
    "    host=ELASTICSEARCH_HOST,\n",
    "    port=ELASTICSEARCH_PORT,\n",
    "    embedding_model_name=EMBEDDING_MODEL\n",
    ")\n",
    "es_manager.es_client.info()"
   ]
  },
  {
   "cell_type": "markdown",
   "metadata": {},
   "source": [
    "## Data ingestion"
   ]
  },
  {
   "cell_type": "markdown",
   "metadata": {},
   "source": [
    "### Sentence Splitting"
   ]
  },
  {
   "cell_type": "code",
   "execution_count": 5,
   "metadata": {},
   "outputs": [
    {
     "name": "stdout",
     "output_type": "stream",
     "text": [
      "The data set contains: 2929 sentences\n"
     ]
    }
   ],
   "source": [
    "\n",
    "df_sentence_splitting = pd.read_csv(\n",
    "    os.path.join(project_path, 'data', 'testing', 'sentence_splitting.csv')\n",
    ")\n",
    "print(f\"The data set contains: {df_sentence_splitting.shape[0]} sentences\")\n",
    "sentece_splitting_docs = df_sentence_splitting.to_dict(orient=\"records\")\n",
    "# Define search fields\n",
    "text_fields = [\n",
    "    'category',\n",
    "    'paper',\n",
    "    'text'\n",
    "]\n",
    "keyword_fields = ['id']\n",
    "# Define the name for the experimental index\n",
    "ss_index_name=\"sentence_splitting_index\""
   ]
  },
  {
   "cell_type": "code",
   "execution_count": 6,
   "metadata": {},
   "outputs": [
    {
     "name": "stdout",
     "output_type": "stream",
     "text": [
      "Index sentence_splitting_index created.\n"
     ]
    }
   ],
   "source": [
    "es_manager.create_index(\n",
    "    index_name=ss_index_name,\n",
    "    text_fields=text_fields,\n",
    "    keyword_fields=keyword_fields\n",
    ")"
   ]
  },
  {
   "cell_type": "code",
   "execution_count": 7,
   "metadata": {},
   "outputs": [
    {
     "name": "stderr",
     "output_type": "stream",
     "text": [
      "100%|██████████| 2929/2929 [09:58<00:00,  4.89it/s]\n"
     ]
    }
   ],
   "source": [
    "es_manager.index_documents(\n",
    "    docs=sentece_splitting_docs,\n",
    "    index_name=ss_index_name\n",
    ")"
   ]
  },
  {
   "cell_type": "code",
   "execution_count": 18,
   "metadata": {},
   "outputs": [
    {
     "data": {
      "text/plain": [
       "[{'paper': 'attention_is_all_you_need.pdf',\n",
       "  'id': 'e1ccff07e5c99304d9674e3bb8b21a9f3ad63a708349704476b45c169163a8b4-11',\n",
       "  'text': 'Ashish, with Illia, designed and implemented the ﬁrst Transformer models and\\nhas been crucially involved in every aspect of this work.',\n",
       "  'category': 'deeplearning'},\n",
       " {'paper': 'attention_is_all_you_need.pdf',\n",
       "  'id': 'e1ccff07e5c99304d9674e3bb8b21a9f3ad63a708349704476b45c169163a8b4-41',\n",
       "  'text': 'The Transformer follows this overall architecture using stacked self-attention and point-wise, fully\\nconnected layers for both the encoder and decoder, shown in the left and right halves of Figure 1,\\nrespectively.',\n",
       "  'category': 'deeplearning'}]"
      ]
     },
     "execution_count": 18,
     "metadata": {},
     "output_type": "execute_result"
    }
   ],
   "source": [
    "# Let's test searching the index\n",
    "query = \"What is the Transformer?\"\n",
    "vector = embbeding_model.encode(query)\n",
    "es_manager.hybrid_search(\n",
    "    index_name=ss_index_name,\n",
    "    query=query,\n",
    "    field_names=text_fields,\n",
    "    vector=vector,\n",
    "    n_results=2,\n",
    "    alpha=0.9\n",
    ")"
   ]
  },
  {
   "cell_type": "markdown",
   "metadata": {},
   "source": [
    "### Semantic chunking\n",
    "\n"
   ]
  },
  {
   "cell_type": "code",
   "execution_count": 19,
   "metadata": {},
   "outputs": [
    {
     "name": "stdout",
     "output_type": "stream",
     "text": [
      "The data set contains: 269 sentences\n"
     ]
    }
   ],
   "source": [
    "df_semantic_chunking = pd.read_csv(\n",
    "    os.path.join(project_path, 'data', 'testing', 'semantic_chunking.csv')\n",
    ")\n",
    "print(f\"The data set contains: {df_semantic_chunking.shape[0]} sentences\")\n",
    "sc_docs = df_semantic_chunking.to_dict(orient=\"records\")\n",
    "# Define search fields\n",
    "text_fields = [\n",
    "    'category',\n",
    "    'paper',\n",
    "    'text'\n",
    "]\n",
    "keyword_fields = ['id']\n",
    "# Define the name for the experimental index\n",
    "sc_index_name=\"semantic_chuking_index\""
   ]
  },
  {
   "cell_type": "code",
   "execution_count": 20,
   "metadata": {},
   "outputs": [
    {
     "name": "stdout",
     "output_type": "stream",
     "text": [
      "Index semantic_chuking_index created.\n"
     ]
    },
    {
     "name": "stderr",
     "output_type": "stream",
     "text": [
      "100%|██████████| 269/269 [02:01<00:00,  2.21it/s]\n"
     ]
    }
   ],
   "source": [
    "es_manager.create_index(\n",
    "    index_name=sc_index_name,\n",
    "    text_fields=text_fields,\n",
    "    keyword_fields=keyword_fields\n",
    ")\n",
    "es_manager.index_documents(\n",
    "    docs=sc_docs,\n",
    "    index_name=sc_index_name\n",
    ")"
   ]
  },
  {
   "cell_type": "code",
   "execution_count": 27,
   "metadata": {},
   "outputs": [
    {
     "data": {
      "text/plain": [
       "[{'paper': 'attention_is_all_you_need.pdf',\n",
       "  'id': 'e1ccff07e5c99304d9674e3bb8b21a9f3ad63a708349704476b45c169163a8b4-2',\n",
       "  'text': 'The Transformer allows for signiﬁcantly more parallelization and can reach a new state of the art in\\ntranslation quality after being trained for as little as twelve hours on eight P100 GPUs.\\nFor translation tasks, the Transformer can be trained signiﬁcantly faster than architectures based\\non recurrent or convolutional layers.',\n",
       "  'category': 'deeplearning'},\n",
       " {'paper': 'attention_is_all_you_need.pdf',\n",
       "  'id': 'e1ccff07e5c99304d9674e3bb8b21a9f3ad63a708349704476b45c169163a8b4-82',\n",
       "  'text': 'The Transformer follows this overall architecture using stacked self-attention and point-wise, fully\\nconnected layers for both the encoder and decoder, shown in the left and right halves of Figure 1,\\nrespectively.\\n3.1 Encoder and Decoder Stacks\\nEncoder: The encoder is composed of a stack of N= 6 identical layers.\\nDecoder: The decoder is also composed of a stack of N= 6identical layers.\\nIn addition to the two\\nsub-layers in each encoder layer, the decoder inserts a third sub-layer, which performs multi-head\\nattention over the output of the encoder stack.\\nEach position in the encoder can attend to all positions in the previous layer of the\\nencoder.\\nWe give two such examples above, from two different heads from the encoder self-attention\\nat layer 5 of 6.',\n",
       "  'category': 'deeplearning'}]"
      ]
     },
     "execution_count": 27,
     "metadata": {},
     "output_type": "execute_result"
    }
   ],
   "source": [
    "# Let's test searching the index\n",
    "query = \"What is the Transformer?\"\n",
    "vector = embbeding_model.encode(query)\n",
    "es_manager.hybrid_search(\n",
    "    index_name=sc_index_name,\n",
    "    query=query,\n",
    "    field_names=text_fields,\n",
    "    vector=vector,\n",
    "    n_results=2,\n",
    "    alpha=0.9\n",
    ")"
   ]
  },
  {
   "cell_type": "markdown",
   "metadata": {},
   "source": [
    "### Sequential semantic chunking"
   ]
  },
  {
   "cell_type": "code",
   "execution_count": 8,
   "metadata": {},
   "outputs": [
    {
     "name": "stdout",
     "output_type": "stream",
     "text": [
      "The data set contains: 154 sentences\n"
     ]
    }
   ],
   "source": [
    "df_sequential_semantic_chunking = pd.read_csv(\n",
    "    os.path.join(project_path, 'data', 'testing', 'sequential_semantic_chunking.csv')\n",
    ")\n",
    "print(f\"The data set contains: {df_sequential_semantic_chunking.shape[0]} sentences\")\n",
    "ssc_docs = df_sequential_semantic_chunking.to_dict(orient=\"records\")\n",
    "# Define search fields\n",
    "text_fields = [\n",
    "    'category',\n",
    "    'paper',\n",
    "    'text'\n",
    "]\n",
    "keyword_fields = ['id']\n",
    "# Define the name for the experimental index\n",
    "ssc_index_name=\"sequential_semantic_chuking_index\""
   ]
  },
  {
   "cell_type": "code",
   "execution_count": 29,
   "metadata": {},
   "outputs": [
    {
     "name": "stdout",
     "output_type": "stream",
     "text": [
      "Index sequential_semantic_chuking_index created.\n"
     ]
    },
    {
     "name": "stderr",
     "output_type": "stream",
     "text": [
      "100%|██████████| 154/154 [01:29<00:00,  1.72it/s]\n"
     ]
    }
   ],
   "source": [
    "es_manager.create_index(\n",
    "    index_name=ssc_index_name,\n",
    "    text_fields=text_fields,\n",
    "    keyword_fields=keyword_fields\n",
    ")\n",
    "es_manager.index_documents(\n",
    "    docs=ssc_docs,\n",
    "    index_name=ssc_index_name\n",
    ")"
   ]
  },
  {
   "cell_type": "code",
   "execution_count": 35,
   "metadata": {},
   "outputs": [
    {
     "data": {
      "text/plain": [
       "[{'paper': 'knowledge_card_filling_llms_knowledge_gaps_with_plug_in_specialied_language_models.pdf',\n",
       "  'id': 'baf07af8cb279975638f4875627751cd1ad7639ee446444a5496c3be708f5a12-23',\n",
       "  'text': 'PMLR, 2017.\\nKevin Meng, Arnab Sen Sharma, Alex J Andonian, Yonatan Belinkov, and David Bau.\\nMass-editing\\nmemory in a transformer.\\nIn The Eleventh International Conference on Learning Representations ,\\n2022.\\nSewon Min, Weijia Shi, Mike Lewis, Xilun Chen, Wen-tau Yih, Hannaneh Hajishirzi, and Luke\\nZettlemoyer.',\n",
       "  'category': 'deeplearning'},\n",
       " {'paper': 'attention_is_all_you_need.pdf',\n",
       "  'id': 'e1ccff07e5c99304d9674e3bb8b21a9f3ad63a708349704476b45c169163a8b4-4',\n",
       "  'text': 'We\\nused beam search with a beam size of 4and length penalty \\x0b= 0:6[38].\\nThese hyperparameters\\nwere chosen after experimentation on the development set.\\nWe set the maximum output length during\\ninference to input length + 50, but terminate early when possible [38].\\nTable 2 summarizes our results and compares our translation quality and training costs to other model\\narchitectures from the literature.\\nWe estimate the number of ﬂoating point operations used to train a\\nmodel by multiplying the training time, the number of GPUs used, and an estimate of the sustained\\nsingle-precision ﬂoating-point capacity of each GPU5.\\n6.2 Model Variations\\nTo evaluate the importance of different components of the Transformer, we varied our base model\\nin different ways, measuring the change in performance on English-to-German translation on the\\ndevelopment set, newstest2013.\\nWe used beam search as described in the previous section, but no\\ncheckpoint averaging.\\nWe present these results in Table 3.\\nIn Table 3 rows (A), we vary the number of attention heads and the attention key and value dimensions,\\nkeeping the amount of computation constant, as described in Section 3.2.2.',\n",
       "  'category': 'deeplearning'}]"
      ]
     },
     "execution_count": 35,
     "metadata": {},
     "output_type": "execute_result"
    }
   ],
   "source": [
    "# Let's test searching the index\n",
    "query = \"What is the Transformer?\"\n",
    "vector = embbeding_model.encode(query)\n",
    "es_manager.hybrid_search(\n",
    "    index_name=ssc_index_name,\n",
    "    query=query,\n",
    "    field_names=text_fields,\n",
    "    vector=vector,\n",
    "    n_results=2,\n",
    "    alpha=0.9\n",
    ")"
   ]
  },
  {
   "cell_type": "markdown",
   "metadata": {},
   "source": [
    "## Evaluation with LLM as a judge"
   ]
  },
  {
   "cell_type": "markdown",
   "metadata": {},
   "source": [
    "Let's start by defyning the templates for the evaluation."
   ]
  },
  {
   "cell_type": "code",
   "execution_count": 12,
   "metadata": {},
   "outputs": [],
   "source": [
    "evaluation_prompt_template = \"\"\"\n",
    "You are an expert evaluator for a RAG system.\n",
    "Your task is to analyze the relevance of the generated answer to the given question.\n",
    "Based on the relevance of the generated answer, you will classify it\n",
    "as \"NON_RELEVANT\", \"PARTLY_RELEVANT\", or \"RELEVANT\".\n",
    "\n",
    "Here is the data for evaluation:\n",
    "\n",
    "Question: {question}\n",
    "Generated Answer: {llm_answer}\n",
    "\n",
    "Please analyze the content and context of the generated answer in relation to the question\n",
    "and provide your evaluation in parsable JSON without using code blocks nor including the an\n",
    "string stating that it's json code:\n",
    "\n",
    "{{\n",
    "  \"Relevance\": \"NON_RELEVANT\" | \"PARTLY_RELEVANT\" | \"RELEVANT\",\n",
    "  \"Explanation\": \"[Provide a brief explanation for your evaluation]\"\n",
    "}}\n",
    "\"\"\".strip()"
   ]
  },
  {
   "cell_type": "markdown",
   "metadata": {},
   "source": [
    "### Sentence splitting"
   ]
  },
  {
   "cell_type": "code",
   "execution_count": 36,
   "metadata": {},
   "outputs": [],
   "source": [
    "# Gound truth data\n",
    "df_ss_gt = pd.read_csv(\n",
    "    os.path.join(project_path, 'data', 'testing', 'ground-truth-sentence-splitting.csv')\n",
    ")\n",
    "ss_gt_docs = df_ss_gt.to_dict(orient=\"records\")"
   ]
  },
  {
   "cell_type": "code",
   "execution_count": 86,
   "metadata": {},
   "outputs": [
    {
     "name": "stderr",
     "output_type": "stream",
     "text": [
      "c:\\Users\\User\\Documents\\Cursos\\llm_zoomcamp_final_project\\llm-project\\Lib\\site-packages\\transformers\\tokenization_utils_base.py:1601: FutureWarning: `clean_up_tokenization_spaces` was not set. It will be set to `True` by default. This behavior will be depracted in transformers v4.45, and will be then set to `False` by default. For more details check this issue: https://github.com/huggingface/transformers/issues/31884\n",
      "  warnings.warn(\n"
     ]
    }
   ],
   "source": [
    "# Initialice the RAG\n",
    "ss_rag = RAG(\n",
    "    api_key=GOOGLE_API_KEY,\n",
    "    filter_dict={\"category\":\"deeplearning\"}    \n",
    ")\n",
    "\n",
    "ss_rag.get_es_manager(\n",
    "    index_name=ss_index_name,\n",
    "    text_fields=text_fields,\n",
    "    elasticsearch_host=ELASTICSEARCH_HOST,\n",
    "    elasticsearch_port=ELASTICSEARCH_PORT,\n",
    "    embedding_model_name=EMBEDDING_MODEL\n",
    ")\n",
    "ss_rag.set_prompt_templates(\n",
    "    entry_template=entry_template,\n",
    "    prompt_template=prompt_template\n",
    ")"
   ]
  },
  {
   "cell_type": "code",
   "execution_count": 87,
   "metadata": {},
   "outputs": [
    {
     "data": {
      "text/plain": [
       "[{'paper': 'attention_is_all_you_need.pdf',\n",
       "  'id': 'e1ccff07e5c99304d9674e3bb8b21a9f3ad63a708349704476b45c169163a8b4-11',\n",
       "  'text': 'Ashish, with Illia, designed and implemented the ﬁrst Transformer models and\\nhas been crucially involved in every aspect of this work.',\n",
       "  'category': 'deeplearning'},\n",
       " {'paper': 'attention_is_all_you_need.pdf',\n",
       "  'id': 'e1ccff07e5c99304d9674e3bb8b21a9f3ad63a708349704476b45c169163a8b4-41',\n",
       "  'text': 'The Transformer follows this overall architecture using stacked self-attention and point-wise, fully\\nconnected layers for both the encoder and decoder, shown in the left and right halves of Figure 1,\\nrespectively.',\n",
       "  'category': 'deeplearning'}]"
      ]
     },
     "execution_count": 87,
     "metadata": {},
     "output_type": "execute_result"
    }
   ],
   "source": [
    "query = \"What is the Transformer?\"\n",
    "ss_rag.elasticsearch(query, n_results=2, alpha=0.9)"
   ]
  },
  {
   "cell_type": "code",
   "execution_count": 42,
   "metadata": {},
   "outputs": [
    {
     "name": "stderr",
     "output_type": "stream",
     "text": [
      "100%|██████████| 770/770 [02:25<00:00,  5.28it/s]\n"
     ]
    },
    {
     "data": {
      "text/plain": [
       "{'hit_rate': 0.38051948051948054, 'mmr': 0.2887183055040197}"
      ]
     },
     "execution_count": 42,
     "metadata": {},
     "output_type": "execute_result"
    }
   ],
   "source": [
    "# evaluate default retrieval\n",
    "evaluate(ss_gt_docs, lambda q: ss_rag.elasticsearch(q['question']))"
   ]
  },
  {
   "cell_type": "code",
   "execution_count": 88,
   "metadata": {},
   "outputs": [],
   "source": [
    "# optimized parameters\n",
    "ss_params_file = os.path.join(project_path, 'src', 'parameters', 'ss_adapted_params.json')\n",
    "with open(ss_params_file, \"r\") as file:\n",
    "    ss_params = json.load(file)\n",
    "ss_rag.boost_dict = ss_params[\"boost_dict\"]\n",
    "ss_rag.alpha = ss_params[\"alpha\"]\n"
   ]
  },
  {
   "cell_type": "code",
   "execution_count": 50,
   "metadata": {},
   "outputs": [
    {
     "name": "stderr",
     "output_type": "stream",
     "text": [
      "100%|██████████| 770/770 [02:19<00:00,  5.52it/s]\n"
     ]
    },
    {
     "data": {
      "text/plain": [
       "{'hit_rate': 0.38831168831168833, 'mmr': 0.2986203875489589}"
      ]
     },
     "execution_count": 50,
     "metadata": {},
     "output_type": "execute_result"
    }
   ],
   "source": [
    "evaluate(ss_gt_docs, lambda q: ss_rag.elasticsearch(q['question']))"
   ]
  },
  {
   "cell_type": "markdown",
   "metadata": {},
   "source": [
    "Let's do the full rag evaluation, using n=5"
   ]
  },
  {
   "cell_type": "code",
   "execution_count": 89,
   "metadata": {},
   "outputs": [
    {
     "name": "stdout",
     "output_type": "stream",
     "text": [
      "You are an expert evaluator for a RAG system.\n",
      "Your task is to analyze the relevance of the generated answer to the given question.\n",
      "Based on the relevance of the generated answer, you will classify it\n",
      "as \"NON_RELEVANT\", \"PARTLY_RELEVANT\", or \"RELEVANT\".\n",
      "\n",
      "Here is the data for evaluation:\n",
      "\n",
      "Question: What specific architectural or training techniques enabled the model to achieve such a significant BLEU score improvement compared to previous single models?\n",
      "Generated Answer: {'answer': \"The provided context does not explicitly state the specific architectural or training techniques that led to the improved BLEU scores. The paper highlights that the Transformer model achieved state-of-the-art results on the WMT 2014 English-to-French and English-to-German translation tasks, but it focuses on the model's performance and training cost compared to previous models.  It does not delve into the specific architectural or training techniques that contributed to the improvement. \\n\", 'model_used': 'models/gemini-1.5-flash-latest', 'response_time': 2.463446617126465, 'relevance': 'RELEVANT', 'relevance_explanation': \"The answer correctly identifies that the provided context does not contain the specific information requested. It acknowledges the model's performance improvement but clarifies that the paper focuses on overall results and not the specific techniques behind them. This is a relevant response as it accurately reflects the information available.\", 'prompt_tokens': 604, 'completion_tokens': 96, 'total_tokens': 700, 'eval_prompt_tokens': 294, 'eval_completion_tokens': 70, 'eval_total_tokens': 364, 'google_cost': 0.00011715}\n",
      "\n",
      "Please analyze the content and context of the generated answer in relation to the question\n",
      "and provide your evaluation in parsable JSON without using code blocks nor including the an\n",
      "string stating that it's json code:\n",
      "\n",
      "{\n",
      "  \"Relevance\": \"NON_RELEVANT\" | \"PARTLY_RELEVANT\" | \"RELEVANT\",\n",
      "  \"Explanation\": \"[Provide a brief explanation for your evaluation]\"\n",
      "}\n"
     ]
    }
   ],
   "source": [
    "record = ss_gt_docs[0]\n",
    "question = record['question']\n",
    "rag_answer = ss_rag.answer(question, search=\"elasticsearch\", n_results=5)\n",
    "prompt = evaluation_prompt_template.format(\n",
    "    question=question,llm_answer=rag_answer\n",
    ")\n",
    "print(prompt)"
   ]
  },
  {
   "cell_type": "code",
   "execution_count": 90,
   "metadata": {},
   "outputs": [],
   "source": [
    "r_response=ss_rag.llm(prompt=prompt)"
   ]
  },
  {
   "cell_type": "code",
   "execution_count": 91,
   "metadata": {},
   "outputs": [
    {
     "name": "stdout",
     "output_type": "stream",
     "text": [
      "{\n",
      "  \"Relevance\": \"RELEVANT\",\n",
      "  \"Explanation\": \"The answer accurately identifies that the provided context lacks the specific information requested. It acknowledges the model's performance improvement but clarifies the paper's focus on overall results, not the techniques behind them. This is a relevant response as it accurately reflects the information available.\"\n",
      "} \n",
      "\n"
     ]
    }
   ],
   "source": [
    "print(r_response[0])"
   ]
  },
  {
   "cell_type": "code",
   "execution_count": 60,
   "metadata": {},
   "outputs": [],
   "source": [
    "df_ss_gt_sample = df_ss_gt.sample(n=200, random_state=1)\n",
    "ss_sample = df_ss_gt_sample.to_dict(orient=\"records\")"
   ]
  },
  {
   "cell_type": "code",
   "execution_count": 72,
   "metadata": {},
   "outputs": [],
   "source": [
    "ss_evaluations_n5 = []"
   ]
  },
  {
   "cell_type": "code",
   "execution_count": 73,
   "metadata": {},
   "outputs": [
    {
     "name": "stderr",
     "output_type": "stream",
     "text": [
      "100%|██████████| 200/200 [41:00<00:00, 12.30s/it]\n"
     ]
    }
   ],
   "source": [
    "for record in tqdm(ss_sample):\n",
    "    \n",
    "    question = record['question']\n",
    "    rag_answer = ss_rag.answer(question, search=\"elasticsearch\", n_results=5)\n",
    "    time.sleep(5)\n",
    "    prompt = evaluation_prompt_template.format(\n",
    "        question=question,llm_answer=rag_answer\n",
    "    )\n",
    "    evaluation = ss_rag.llm(prompt)\n",
    "    evaluation = json.loads(evaluation[0])\n",
    "    \n",
    "    ss_evaluations_n5.append((record, rag_answer, evaluation))\n",
    "    \n",
    "    time.sleep(5)"
   ]
  },
  {
   "cell_type": "code",
   "execution_count": 74,
   "metadata": {},
   "outputs": [
    {
     "data": {
      "text/html": [
       "<div>\n",
       "<style scoped>\n",
       "    .dataframe tbody tr th:only-of-type {\n",
       "        vertical-align: middle;\n",
       "    }\n",
       "\n",
       "    .dataframe tbody tr th {\n",
       "        vertical-align: top;\n",
       "    }\n",
       "\n",
       "    .dataframe thead th {\n",
       "        text-align: right;\n",
       "    }\n",
       "</style>\n",
       "<table border=\"1\" class=\"dataframe\">\n",
       "  <thead>\n",
       "    <tr style=\"text-align: right;\">\n",
       "      <th></th>\n",
       "      <th>record</th>\n",
       "      <th>answer</th>\n",
       "      <th>evaluation</th>\n",
       "    </tr>\n",
       "  </thead>\n",
       "  <tbody>\n",
       "    <tr>\n",
       "      <th>0</th>\n",
       "      <td>{'id': 'baf07af8cb279975638f4875627751cd1ad763...</td>\n",
       "      <td>{'answer': 'The provided context does not expl...</td>\n",
       "      <td>{'Relevance': 'NON_RELEVANT', 'Explanation': '...</td>\n",
       "    </tr>\n",
       "    <tr>\n",
       "      <th>1</th>\n",
       "      <td>{'id': 'e1ccff07e5c99304d9674e3bb8b21a9f3ad63a...</td>\n",
       "      <td>{'answer': 'The provided context does not ment...</td>\n",
       "      <td>{'Relevance': 'NON_RELEVANT', 'Explanation': '...</td>\n",
       "    </tr>\n",
       "    <tr>\n",
       "      <th>2</th>\n",
       "      <td>{'id': 'baf07af8cb279975638f4875627751cd1ad763...</td>\n",
       "      <td>{'answer': 'The provided context highlights th...</td>\n",
       "      <td>{'Relevance': 'RELEVANT', 'Explanation': 'The ...</td>\n",
       "    </tr>\n",
       "    <tr>\n",
       "      <th>3</th>\n",
       "      <td>{'id': '0e743db25fb819961cd2f051fb88dd185c37e4...</td>\n",
       "      <td>{'answer': 'The provided context does not expl...</td>\n",
       "      <td>{'Relevance': 'NON_RELEVANT', 'Explanation': '...</td>\n",
       "    </tr>\n",
       "    <tr>\n",
       "      <th>4</th>\n",
       "      <td>{'id': '95c543b8fe00c9b1adbed90ddbc9e22abacf34...</td>\n",
       "      <td>{'answer': 'The granularity of propositions ge...</td>\n",
       "      <td>{'Relevance': 'PARTLY_RELEVANT', 'Explanation'...</td>\n",
       "    </tr>\n",
       "  </tbody>\n",
       "</table>\n",
       "</div>"
      ],
      "text/plain": [
       "                                              record  \\\n",
       "0  {'id': 'baf07af8cb279975638f4875627751cd1ad763...   \n",
       "1  {'id': 'e1ccff07e5c99304d9674e3bb8b21a9f3ad63a...   \n",
       "2  {'id': 'baf07af8cb279975638f4875627751cd1ad763...   \n",
       "3  {'id': '0e743db25fb819961cd2f051fb88dd185c37e4...   \n",
       "4  {'id': '95c543b8fe00c9b1adbed90ddbc9e22abacf34...   \n",
       "\n",
       "                                              answer  \\\n",
       "0  {'answer': 'The provided context does not expl...   \n",
       "1  {'answer': 'The provided context does not ment...   \n",
       "2  {'answer': 'The provided context highlights th...   \n",
       "3  {'answer': 'The provided context does not expl...   \n",
       "4  {'answer': 'The granularity of propositions ge...   \n",
       "\n",
       "                                          evaluation  \n",
       "0  {'Relevance': 'NON_RELEVANT', 'Explanation': '...  \n",
       "1  {'Relevance': 'NON_RELEVANT', 'Explanation': '...  \n",
       "2  {'Relevance': 'RELEVANT', 'Explanation': 'The ...  \n",
       "3  {'Relevance': 'NON_RELEVANT', 'Explanation': '...  \n",
       "4  {'Relevance': 'PARTLY_RELEVANT', 'Explanation'...  "
      ]
     },
     "execution_count": 74,
     "metadata": {},
     "output_type": "execute_result"
    }
   ],
   "source": [
    "df_ss_eval_n5 = pd.DataFrame(ss_evaluations_n5, columns=[\"record\", \"answer\", \"evaluation\"])\n",
    "df_ss_eval_n5.head()"
   ]
  },
  {
   "cell_type": "code",
   "execution_count": 75,
   "metadata": {},
   "outputs": [
    {
     "data": {
      "text/html": [
       "<div>\n",
       "<style scoped>\n",
       "    .dataframe tbody tr th:only-of-type {\n",
       "        vertical-align: middle;\n",
       "    }\n",
       "\n",
       "    .dataframe tbody tr th {\n",
       "        vertical-align: top;\n",
       "    }\n",
       "\n",
       "    .dataframe thead th {\n",
       "        text-align: right;\n",
       "    }\n",
       "</style>\n",
       "<table border=\"1\" class=\"dataframe\">\n",
       "  <thead>\n",
       "    <tr style=\"text-align: right;\">\n",
       "      <th></th>\n",
       "      <th>record</th>\n",
       "      <th>answer</th>\n",
       "      <th>evaluation</th>\n",
       "      <th>id</th>\n",
       "      <th>question</th>\n",
       "      <th>relevance</th>\n",
       "      <th>explanation</th>\n",
       "    </tr>\n",
       "  </thead>\n",
       "  <tbody>\n",
       "    <tr>\n",
       "      <th>0</th>\n",
       "      <td>{'id': 'baf07af8cb279975638f4875627751cd1ad763...</td>\n",
       "      <td>{'answer': 'The provided context does not expl...</td>\n",
       "      <td>{'Relevance': 'NON_RELEVANT', 'Explanation': '...</td>\n",
       "      <td>baf07af8cb279975638f4875627751cd1ad7639ee44644...</td>\n",
       "      <td>What specific advantages does Cold Fusion offe...</td>\n",
       "      <td>NON_RELEVANT</td>\n",
       "      <td>The answer correctly identifies that the conte...</td>\n",
       "    </tr>\n",
       "    <tr>\n",
       "      <th>1</th>\n",
       "      <td>{'id': 'e1ccff07e5c99304d9674e3bb8b21a9f3ad63a...</td>\n",
       "      <td>{'answer': 'The provided context does not ment...</td>\n",
       "      <td>{'Relevance': 'NON_RELEVANT', 'Explanation': '...</td>\n",
       "      <td>e1ccff07e5c99304d9674e3bb8b21a9f3ad63a70834970...</td>\n",
       "      <td>What specific challenges or limitations addres...</td>\n",
       "      <td>NON_RELEVANT</td>\n",
       "      <td>The answer is not relevant because it simply s...</td>\n",
       "    </tr>\n",
       "    <tr>\n",
       "      <th>2</th>\n",
       "      <td>{'id': 'baf07af8cb279975638f4875627751cd1ad763...</td>\n",
       "      <td>{'answer': 'The provided context highlights th...</td>\n",
       "      <td>{'Relevance': 'RELEVANT', 'Explanation': 'The ...</td>\n",
       "      <td>baf07af8cb279975638f4875627751cd1ad7639ee44644...</td>\n",
       "      <td>Given the diverse backgrounds of the authors, ...</td>\n",
       "      <td>RELEVANT</td>\n",
       "      <td>The answer directly addresses the question by ...</td>\n",
       "    </tr>\n",
       "    <tr>\n",
       "      <th>3</th>\n",
       "      <td>{'id': '0e743db25fb819961cd2f051fb88dd185c37e4...</td>\n",
       "      <td>{'answer': 'The provided context does not expl...</td>\n",
       "      <td>{'Relevance': 'NON_RELEVANT', 'Explanation': '...</td>\n",
       "      <td>0e743db25fb819961cd2f051fb88dd185c37e45bc1e119...</td>\n",
       "      <td>Are there any specific types of deep learning ...</td>\n",
       "      <td>NON_RELEVANT</td>\n",
       "      <td>The answer correctly identifies that the provi...</td>\n",
       "    </tr>\n",
       "    <tr>\n",
       "      <th>4</th>\n",
       "      <td>{'id': '95c543b8fe00c9b1adbed90ddbc9e22abacf34...</td>\n",
       "      <td>{'answer': 'The granularity of propositions ge...</td>\n",
       "      <td>{'Relevance': 'PARTLY_RELEVANT', 'Explanation'...</td>\n",
       "      <td>95c543b8fe00c9b1adbed90ddbc9e22abacf34b8ecc804...</td>\n",
       "      <td>How does the granularity of propositions gener...</td>\n",
       "      <td>PARTLY_RELEVANT</td>\n",
       "      <td>The answer correctly identifies the impact of ...</td>\n",
       "    </tr>\n",
       "  </tbody>\n",
       "</table>\n",
       "</div>"
      ],
      "text/plain": [
       "                                              record  \\\n",
       "0  {'id': 'baf07af8cb279975638f4875627751cd1ad763...   \n",
       "1  {'id': 'e1ccff07e5c99304d9674e3bb8b21a9f3ad63a...   \n",
       "2  {'id': 'baf07af8cb279975638f4875627751cd1ad763...   \n",
       "3  {'id': '0e743db25fb819961cd2f051fb88dd185c37e4...   \n",
       "4  {'id': '95c543b8fe00c9b1adbed90ddbc9e22abacf34...   \n",
       "\n",
       "                                              answer  \\\n",
       "0  {'answer': 'The provided context does not expl...   \n",
       "1  {'answer': 'The provided context does not ment...   \n",
       "2  {'answer': 'The provided context highlights th...   \n",
       "3  {'answer': 'The provided context does not expl...   \n",
       "4  {'answer': 'The granularity of propositions ge...   \n",
       "\n",
       "                                          evaluation  \\\n",
       "0  {'Relevance': 'NON_RELEVANT', 'Explanation': '...   \n",
       "1  {'Relevance': 'NON_RELEVANT', 'Explanation': '...   \n",
       "2  {'Relevance': 'RELEVANT', 'Explanation': 'The ...   \n",
       "3  {'Relevance': 'NON_RELEVANT', 'Explanation': '...   \n",
       "4  {'Relevance': 'PARTLY_RELEVANT', 'Explanation'...   \n",
       "\n",
       "                                                  id  \\\n",
       "0  baf07af8cb279975638f4875627751cd1ad7639ee44644...   \n",
       "1  e1ccff07e5c99304d9674e3bb8b21a9f3ad63a70834970...   \n",
       "2  baf07af8cb279975638f4875627751cd1ad7639ee44644...   \n",
       "3  0e743db25fb819961cd2f051fb88dd185c37e45bc1e119...   \n",
       "4  95c543b8fe00c9b1adbed90ddbc9e22abacf34b8ecc804...   \n",
       "\n",
       "                                            question        relevance  \\\n",
       "0  What specific advantages does Cold Fusion offe...     NON_RELEVANT   \n",
       "1  What specific challenges or limitations addres...     NON_RELEVANT   \n",
       "2  Given the diverse backgrounds of the authors, ...         RELEVANT   \n",
       "3  Are there any specific types of deep learning ...     NON_RELEVANT   \n",
       "4  How does the granularity of propositions gener...  PARTLY_RELEVANT   \n",
       "\n",
       "                                         explanation  \n",
       "0  The answer correctly identifies that the conte...  \n",
       "1  The answer is not relevant because it simply s...  \n",
       "2  The answer directly addresses the question by ...  \n",
       "3  The answer correctly identifies that the provi...  \n",
       "4  The answer correctly identifies the impact of ...  "
      ]
     },
     "execution_count": 75,
     "metadata": {},
     "output_type": "execute_result"
    }
   ],
   "source": [
    "df_ss_eval_n5['id'] = df_ss_eval_n5.record.apply(lambda d: d['id'])\n",
    "df_ss_eval_n5['question'] = df_ss_eval_n5.record.apply(lambda d: d['question'])\n",
    "\n",
    "df_ss_eval_n5['relevance'] = df_ss_eval_n5.evaluation.apply(lambda d: d['Relevance'])\n",
    "df_ss_eval_n5['explanation'] = df_ss_eval_n5.evaluation.apply(lambda d: d['Explanation'])\n",
    "df_ss_eval_n5.head()"
   ]
  },
  {
   "cell_type": "code",
   "execution_count": 76,
   "metadata": {},
   "outputs": [
    {
     "data": {
      "text/html": [
       "<div>\n",
       "<style scoped>\n",
       "    .dataframe tbody tr th:only-of-type {\n",
       "        vertical-align: middle;\n",
       "    }\n",
       "\n",
       "    .dataframe tbody tr th {\n",
       "        vertical-align: top;\n",
       "    }\n",
       "\n",
       "    .dataframe thead th {\n",
       "        text-align: right;\n",
       "    }\n",
       "</style>\n",
       "<table border=\"1\" class=\"dataframe\">\n",
       "  <thead>\n",
       "    <tr style=\"text-align: right;\">\n",
       "      <th></th>\n",
       "      <th>answer</th>\n",
       "      <th>id</th>\n",
       "      <th>question</th>\n",
       "      <th>relevance</th>\n",
       "      <th>explanation</th>\n",
       "    </tr>\n",
       "  </thead>\n",
       "  <tbody>\n",
       "    <tr>\n",
       "      <th>0</th>\n",
       "      <td>{'answer': 'The provided context does not expl...</td>\n",
       "      <td>baf07af8cb279975638f4875627751cd1ad7639ee44644...</td>\n",
       "      <td>What specific advantages does Cold Fusion offe...</td>\n",
       "      <td>NON_RELEVANT</td>\n",
       "      <td>The answer correctly identifies that the conte...</td>\n",
       "    </tr>\n",
       "    <tr>\n",
       "      <th>1</th>\n",
       "      <td>{'answer': 'The provided context does not ment...</td>\n",
       "      <td>e1ccff07e5c99304d9674e3bb8b21a9f3ad63a70834970...</td>\n",
       "      <td>What specific challenges or limitations addres...</td>\n",
       "      <td>NON_RELEVANT</td>\n",
       "      <td>The answer is not relevant because it simply s...</td>\n",
       "    </tr>\n",
       "    <tr>\n",
       "      <th>2</th>\n",
       "      <td>{'answer': 'The provided context highlights th...</td>\n",
       "      <td>baf07af8cb279975638f4875627751cd1ad7639ee44644...</td>\n",
       "      <td>Given the diverse backgrounds of the authors, ...</td>\n",
       "      <td>RELEVANT</td>\n",
       "      <td>The answer directly addresses the question by ...</td>\n",
       "    </tr>\n",
       "    <tr>\n",
       "      <th>3</th>\n",
       "      <td>{'answer': 'The provided context does not expl...</td>\n",
       "      <td>0e743db25fb819961cd2f051fb88dd185c37e45bc1e119...</td>\n",
       "      <td>Are there any specific types of deep learning ...</td>\n",
       "      <td>NON_RELEVANT</td>\n",
       "      <td>The answer correctly identifies that the provi...</td>\n",
       "    </tr>\n",
       "    <tr>\n",
       "      <th>4</th>\n",
       "      <td>{'answer': 'The granularity of propositions ge...</td>\n",
       "      <td>95c543b8fe00c9b1adbed90ddbc9e22abacf34b8ecc804...</td>\n",
       "      <td>How does the granularity of propositions gener...</td>\n",
       "      <td>PARTLY_RELEVANT</td>\n",
       "      <td>The answer correctly identifies the impact of ...</td>\n",
       "    </tr>\n",
       "  </tbody>\n",
       "</table>\n",
       "</div>"
      ],
      "text/plain": [
       "                                              answer  \\\n",
       "0  {'answer': 'The provided context does not expl...   \n",
       "1  {'answer': 'The provided context does not ment...   \n",
       "2  {'answer': 'The provided context highlights th...   \n",
       "3  {'answer': 'The provided context does not expl...   \n",
       "4  {'answer': 'The granularity of propositions ge...   \n",
       "\n",
       "                                                  id  \\\n",
       "0  baf07af8cb279975638f4875627751cd1ad7639ee44644...   \n",
       "1  e1ccff07e5c99304d9674e3bb8b21a9f3ad63a70834970...   \n",
       "2  baf07af8cb279975638f4875627751cd1ad7639ee44644...   \n",
       "3  0e743db25fb819961cd2f051fb88dd185c37e45bc1e119...   \n",
       "4  95c543b8fe00c9b1adbed90ddbc9e22abacf34b8ecc804...   \n",
       "\n",
       "                                            question        relevance  \\\n",
       "0  What specific advantages does Cold Fusion offe...     NON_RELEVANT   \n",
       "1  What specific challenges or limitations addres...     NON_RELEVANT   \n",
       "2  Given the diverse backgrounds of the authors, ...         RELEVANT   \n",
       "3  Are there any specific types of deep learning ...     NON_RELEVANT   \n",
       "4  How does the granularity of propositions gener...  PARTLY_RELEVANT   \n",
       "\n",
       "                                         explanation  \n",
       "0  The answer correctly identifies that the conte...  \n",
       "1  The answer is not relevant because it simply s...  \n",
       "2  The answer directly addresses the question by ...  \n",
       "3  The answer correctly identifies that the provi...  \n",
       "4  The answer correctly identifies the impact of ...  "
      ]
     },
     "execution_count": 76,
     "metadata": {},
     "output_type": "execute_result"
    }
   ],
   "source": [
    "del df_ss_eval_n5['record']\n",
    "del df_ss_eval_n5['evaluation']\n",
    "df_ss_eval_n5.head()"
   ]
  },
  {
   "cell_type": "code",
   "execution_count": 77,
   "metadata": {},
   "outputs": [],
   "source": [
    "df_ss_eval_n5.to_csv(\n",
    "    os.path.join(project_path, \"data\", \"testing\", \"rag-eval-ss-n5.csv\")\n",
    ")"
   ]
  },
  {
   "cell_type": "markdown",
   "metadata": {},
   "source": [
    "using n = 10"
   ]
  },
  {
   "cell_type": "code",
   "execution_count": 80,
   "metadata": {},
   "outputs": [],
   "source": [
    "ss_evaluations_n10 = []"
   ]
  },
  {
   "cell_type": "code",
   "execution_count": 81,
   "metadata": {},
   "outputs": [
    {
     "name": "stderr",
     "output_type": "stream",
     "text": [
      "100%|██████████| 200/200 [41:27<00:00, 12.44s/it]\n"
     ]
    }
   ],
   "source": [
    "for record in tqdm(ss_sample):\n",
    "    \n",
    "    question = record['question']\n",
    "    rag_answer = ss_rag.answer(question, search=\"elasticsearch\", n_results=10)\n",
    "    time.sleep(5)\n",
    "    prompt = evaluation_prompt_template.format(\n",
    "        question=question,llm_answer=rag_answer\n",
    "    )\n",
    "    evaluation = ss_rag.llm(prompt)\n",
    "    evaluation = json.loads(evaluation[0])\n",
    "    \n",
    "    ss_evaluations_n10.append((record, rag_answer, evaluation))\n",
    "    \n",
    "    time.sleep(5)"
   ]
  },
  {
   "cell_type": "code",
   "execution_count": 82,
   "metadata": {},
   "outputs": [],
   "source": [
    "df_ss_eval_n10 = pd.DataFrame(\n",
    "    ss_evaluations_n10, columns=[\"record\", \"answer\", \"evaluation\"]\n",
    ")\n",
    "\n",
    "df_ss_eval_n10['id'] = df_ss_eval_n10.record.apply(lambda d: d['id'])\n",
    "df_ss_eval_n10['question'] = df_ss_eval_n10.record.apply(lambda d: d['question'])\n",
    "\n",
    "df_ss_eval_n10['relevance'] = df_ss_eval_n10.evaluation.apply(lambda d: d['Relevance'])\n",
    "df_ss_eval_n10['explanation'] = df_ss_eval_n10.evaluation.apply(lambda d: d['Explanation'])\n",
    "\n",
    "del df_ss_eval_n10['record']\n",
    "del df_ss_eval_n10['evaluation']\n",
    "\n",
    "df_ss_eval_n10.to_csv(\n",
    "    os.path.join(project_path, \"data\", \"testing\", \"rag-eval-ss-n10.csv\")\n",
    ")"
   ]
  },
  {
   "cell_type": "markdown",
   "metadata": {},
   "source": [
    "using n = 20"
   ]
  },
  {
   "cell_type": "code",
   "execution_count": 92,
   "metadata": {},
   "outputs": [
    {
     "name": "stderr",
     "output_type": "stream",
     "text": [
      "100%|██████████| 200/200 [42:05<00:00, 12.63s/it]\n"
     ]
    }
   ],
   "source": [
    "ss_evaluations_n20 = []\n",
    "for record in tqdm(ss_sample):\n",
    "    \n",
    "    question = record['question']\n",
    "    rag_answer = ss_rag.answer(question, search=\"elasticsearch\", n_results=20)\n",
    "    time.sleep(5)\n",
    "    prompt = evaluation_prompt_template.format(\n",
    "        question=question,llm_answer=rag_answer\n",
    "    )\n",
    "    evaluation = ss_rag.llm(prompt)\n",
    "    evaluation = json.loads(evaluation[0])\n",
    "    \n",
    "    ss_evaluations_n20.append((record, rag_answer, evaluation))\n",
    "    \n",
    "    time.sleep(5)"
   ]
  },
  {
   "cell_type": "code",
   "execution_count": 93,
   "metadata": {},
   "outputs": [],
   "source": [
    "df_ss_eval_n20 = pd.DataFrame(\n",
    "    ss_evaluations_n20, columns=[\"record\", \"answer\", \"evaluation\"]\n",
    ")\n",
    "\n",
    "df_ss_eval_n20['id'] = df_ss_eval_n20.record.apply(lambda d: d['id'])\n",
    "df_ss_eval_n20['question'] = df_ss_eval_n20.record.apply(lambda d: d['question'])\n",
    "\n",
    "df_ss_eval_n20['relevance'] = df_ss_eval_n20.evaluation.apply(lambda d: d['Relevance'])\n",
    "df_ss_eval_n20['explanation'] = df_ss_eval_n20.evaluation.apply(lambda d: d['Explanation'])\n",
    "\n",
    "del df_ss_eval_n20['record']\n",
    "del df_ss_eval_n20['evaluation']\n",
    "\n",
    "df_ss_eval_n20.to_csv(\n",
    "    os.path.join(project_path, \"data\", \"testing\", \"rag-eval-ss-n20.csv\")\n",
    ")"
   ]
  },
  {
   "cell_type": "markdown",
   "metadata": {},
   "source": [
    "## Semantic chunking"
   ]
  },
  {
   "cell_type": "code",
   "execution_count": 94,
   "metadata": {},
   "outputs": [],
   "source": [
    "# Gound truth data\n",
    "df_sc_gt = pd.read_csv(\n",
    "    os.path.join(project_path, 'data', 'testing', 'ground-truth-semantic-chunking.csv')\n",
    ")\n",
    "sc_gt_docs = df_sc_gt.to_dict(orient=\"records\")\n",
    "df_sc_gt_sample = df_sc_gt.sample(n=200, random_state=1)\n",
    "sc_sample = df_sc_gt_sample.to_dict(orient=\"records\")"
   ]
  },
  {
   "cell_type": "code",
   "execution_count": 99,
   "metadata": {},
   "outputs": [
    {
     "name": "stderr",
     "output_type": "stream",
     "text": [
      "c:\\Users\\User\\Documents\\Cursos\\llm_zoomcamp_final_project\\llm-project\\Lib\\site-packages\\transformers\\tokenization_utils_base.py:1601: FutureWarning: `clean_up_tokenization_spaces` was not set. It will be set to `True` by default. This behavior will be depracted in transformers v4.45, and will be then set to `False` by default. For more details check this issue: https://github.com/huggingface/transformers/issues/31884\n",
      "  warnings.warn(\n"
     ]
    }
   ],
   "source": [
    "\n",
    "# Initialice the RAG\n",
    "sc_rag = RAG(\n",
    "    api_key=GOOGLE_API_KEY,\n",
    "    filter_dict={\"category\":\"deeplearning\"}    \n",
    ")\n",
    "sc_rag.get_es_manager(\n",
    "    index_name=sc_index_name,\n",
    "    text_fields=text_fields,\n",
    "    elasticsearch_host=ELASTICSEARCH_HOST,\n",
    "    elasticsearch_port=ELASTICSEARCH_PORT,\n",
    "    embedding_model_name=EMBEDDING_MODEL\n",
    ")\n",
    "sc_rag.set_prompt_templates(\n",
    "    entry_template=entry_template,\n",
    "    prompt_template=prompt_template\n",
    ")\n",
    "\n",
    "# optimized parameters\n",
    "sc_params_file = os.path.join(project_path, 'src', 'parameters', 'sc_adapted_params.json')\n",
    "with open(sc_params_file, \"r\") as file:\n",
    "    sc_params = json.load(file)\n",
    "sc_rag.boost_dict = sc_params[\"boost_dict\"]\n",
    "sc_rag.alpha = sc_params[\"alpha\"]"
   ]
  },
  {
   "cell_type": "markdown",
   "metadata": {},
   "source": [
    "With n = 5"
   ]
  },
  {
   "cell_type": "code",
   "execution_count": 96,
   "metadata": {},
   "outputs": [
    {
     "name": "stderr",
     "output_type": "stream",
     "text": [
      "100%|██████████| 200/200 [42:14<00:00, 12.67s/it]\n"
     ]
    }
   ],
   "source": [
    "sc_evaluations_n5 = []\n",
    "for record in tqdm(sc_sample):\n",
    "    \n",
    "    question = record['question']\n",
    "    rag_answer = sc_rag.answer(question, search=\"elasticsearch\", n_results=5)\n",
    "    time.sleep(5)\n",
    "    prompt = evaluation_prompt_template.format(\n",
    "        question=question,llm_answer=rag_answer\n",
    "    )\n",
    "    evaluation = sc_rag.llm(prompt)\n",
    "    evaluation = json.loads(evaluation[0])\n",
    "    \n",
    "    sc_evaluations_n5.append((record, rag_answer, evaluation))\n",
    "    \n",
    "    time.sleep(5)"
   ]
  },
  {
   "cell_type": "code",
   "execution_count": 155,
   "metadata": {},
   "outputs": [],
   "source": [
    "df_sc_eval_n5 = pd.DataFrame(\n",
    "    sc_evaluations_n5, columns=[\"record\", \"answer\", \"evaluation\"]\n",
    ")\n",
    "\n",
    "df_sc_eval_n5['id'] = df_sc_eval_n5.record.apply(lambda d: d['id'])\n",
    "df_sc_eval_n5['question'] = df_sc_eval_n5.record.apply(lambda d: d['question'])\n",
    "\n",
    "df_sc_eval_n5['relevance'] = df_sc_eval_n5.evaluation.apply(lambda d: d['Relevance'])\n",
    "df_sc_eval_n5['explanation'] = df_sc_eval_n5.evaluation.apply(lambda d: d['Explanation'])\n",
    "\n",
    "del df_sc_eval_n5['record']\n",
    "del df_sc_eval_n5['evaluation']\n",
    "\n",
    "df_sc_eval_n5.to_csv(\n",
    "    os.path.join(project_path, \"data\", \"testing\", \"rag-eval-sc-n5.csv\")\n",
    ")"
   ]
  },
  {
   "cell_type": "markdown",
   "metadata": {},
   "source": [
    "with n = 10"
   ]
  },
  {
   "cell_type": "code",
   "execution_count": 100,
   "metadata": {},
   "outputs": [
    {
     "name": "stderr",
     "output_type": "stream",
     "text": [
      "100%|██████████| 200/200 [43:08<00:00, 12.94s/it]\n"
     ]
    }
   ],
   "source": [
    "sc_evaluations_n10 = []\n",
    "for record in tqdm(sc_sample):\n",
    "    \n",
    "    question = record['question']\n",
    "    rag_answer = sc_rag.answer(question, search=\"elasticsearch\", n_results=10)\n",
    "    time.sleep(5)\n",
    "    prompt = evaluation_prompt_template.format(\n",
    "        question=question,llm_answer=rag_answer\n",
    "    )\n",
    "    evaluation = sc_rag.llm(prompt)\n",
    "    evaluation = json.loads(evaluation[0])\n",
    "    \n",
    "    sc_evaluations_n10.append((record, rag_answer, evaluation))\n",
    "    \n",
    "    time.sleep(5)"
   ]
  },
  {
   "cell_type": "code",
   "execution_count": 156,
   "metadata": {},
   "outputs": [],
   "source": [
    "df_sc_eval_n10 = pd.DataFrame(\n",
    "    sc_evaluations_n10, columns=[\"record\", \"answer\", \"evaluation\"]\n",
    ")\n",
    "\n",
    "df_sc_eval_n10['id'] = df_sc_eval_n10.record.apply(lambda d: d['id'])\n",
    "df_sc_eval_n10['question'] = df_sc_eval_n10.record.apply(lambda d: d['question'])\n",
    "\n",
    "df_sc_eval_n10['relevance'] = df_sc_eval_n10.evaluation.apply(lambda d: d['Relevance'])\n",
    "df_sc_eval_n10['explanation'] = df_sc_eval_n10.evaluation.apply(lambda d: d['Explanation'])\n",
    "\n",
    "del df_sc_eval_n10['record']\n",
    "del df_sc_eval_n10['evaluation']\n",
    "\n",
    "df_sc_eval_n10.to_csv(\n",
    "    os.path.join(project_path, \"data\", \"testing\", \"rag-eval-sc-n10.csv\")\n",
    ")"
   ]
  },
  {
   "cell_type": "markdown",
   "metadata": {},
   "source": [
    "with n = 20"
   ]
  },
  {
   "cell_type": "code",
   "execution_count": 102,
   "metadata": {},
   "outputs": [
    {
     "name": "stderr",
     "output_type": "stream",
     "text": [
      "100%|██████████| 200/200 [44:15<00:00, 13.28s/it]\n"
     ]
    }
   ],
   "source": [
    "sc_evaluations_n20 = []\n",
    "for record in tqdm(sc_sample):\n",
    "    \n",
    "    question = record['question']\n",
    "    rag_answer = sc_rag.answer(question, search=\"elasticsearch\", n_results=20)\n",
    "    time.sleep(5)\n",
    "    prompt = evaluation_prompt_template.format(\n",
    "        question=question,llm_answer=rag_answer\n",
    "    )\n",
    "    evaluation = sc_rag.llm(prompt)\n",
    "    evaluation = json.loads(evaluation[0])\n",
    "    \n",
    "    sc_evaluations_n20.append((record, rag_answer, evaluation))\n",
    "    \n",
    "    time.sleep(5)"
   ]
  },
  {
   "cell_type": "code",
   "execution_count": 157,
   "metadata": {},
   "outputs": [],
   "source": [
    "df_sc_eval_n20 = pd.DataFrame(\n",
    "    sc_evaluations_n20, columns=[\"record\", \"answer\", \"evaluation\"]\n",
    ")\n",
    "\n",
    "df_sc_eval_n20['id'] = df_sc_eval_n20.record.apply(lambda d: d['id'])\n",
    "df_sc_eval_n20['question'] = df_sc_eval_n20.record.apply(lambda d: d['question'])\n",
    "\n",
    "df_sc_eval_n20['relevance'] = df_sc_eval_n20.evaluation.apply(lambda d: d['Relevance'])\n",
    "df_sc_eval_n20['explanation'] = df_sc_eval_n20.evaluation.apply(lambda d: d['Explanation'])\n",
    "\n",
    "del df_sc_eval_n20['record']\n",
    "del df_sc_eval_n20['evaluation']\n",
    "\n",
    "df_sc_eval_n20.to_csv(\n",
    "    os.path.join(project_path, \"data\", \"testing\", \"rag-eval-sc-n20.csv\")\n",
    ")"
   ]
  },
  {
   "cell_type": "markdown",
   "metadata": {},
   "source": [
    "## Sequential semantic chunking"
   ]
  },
  {
   "cell_type": "code",
   "execution_count": 6,
   "metadata": {},
   "outputs": [],
   "source": [
    "df_ssc_gt = pd.read_csv(\n",
    "    os.path.join(project_path, 'data', 'testing', 'ground-truth-sequential-semantic-chunking.csv')\n",
    ")\n",
    "ssc_gt_docs = df_ssc_gt.to_dict(orient=\"records\")\n",
    "df_ssc_gt_sample = df_ssc_gt.sample(n=200, random_state=1)\n",
    "ssc_sample = df_ssc_gt_sample.to_dict(orient=\"records\")"
   ]
  },
  {
   "cell_type": "code",
   "execution_count": 9,
   "metadata": {},
   "outputs": [
    {
     "name": "stderr",
     "output_type": "stream",
     "text": [
      "c:\\Users\\User\\Documents\\Cursos\\llm_zoomcamp_final_project\\llm-project\\Lib\\site-packages\\transformers\\tokenization_utils_base.py:1601: FutureWarning: `clean_up_tokenization_spaces` was not set. It will be set to `True` by default. This behavior will be depracted in transformers v4.45, and will be then set to `False` by default. For more details check this issue: https://github.com/huggingface/transformers/issues/31884\n",
      "  warnings.warn(\n"
     ]
    }
   ],
   "source": [
    "\n",
    "# Initialice the RAG\n",
    "ssc_rag = RAG(\n",
    "    api_key=GOOGLE_API_KEY,\n",
    "    filter_dict={\"category\":\"deeplearning\"}    \n",
    ")\n",
    "\n",
    "ssc_rag.get_es_manager(\n",
    "    index_name=ssc_index_name,\n",
    "    text_fields=text_fields,\n",
    "    elasticsearch_host=ELASTICSEARCH_HOST,\n",
    "    elasticsearch_port=ELASTICSEARCH_PORT,\n",
    "    embedding_model_name=EMBEDDING_MODEL\n",
    ")\n",
    "ssc_rag.set_prompt_templates(\n",
    "    entry_template=entry_template,\n",
    "    prompt_template=prompt_template\n",
    ")\n",
    "\n",
    "# optimized parameters\n",
    "ssc_params_file = os.path.join(project_path, 'src', 'parameters', 'ssc_adapted_params.json')\n",
    "with open(ssc_params_file, \"r\") as file:\n",
    "    ssc_params = json.load(file)\n",
    "ssc_rag.boost_dict = ssc_params[\"boost_dict\"]\n",
    "ssc_rag.alpha = ssc_params[\"alpha\"]"
   ]
  },
  {
   "cell_type": "markdown",
   "metadata": {},
   "source": [
    "with n=5"
   ]
  },
  {
   "cell_type": "code",
   "execution_count": 106,
   "metadata": {},
   "outputs": [
    {
     "name": "stderr",
     "output_type": "stream",
     "text": [
      "100%|██████████| 200/200 [43:54<00:00, 13.17s/it]\n"
     ]
    }
   ],
   "source": [
    "ssc_evaluations_n5 = []\n",
    "for record in tqdm(ssc_sample):\n",
    "    \n",
    "    question = record['question']\n",
    "    rag_answer = ssc_rag.answer(question, search=\"elasticsearch\", n_results=5)\n",
    "    time.sleep(5)\n",
    "    prompt = evaluation_prompt_template.format(\n",
    "        question=question,llm_answer=rag_answer\n",
    "    )\n",
    "    evaluation = ssc_rag.llm(prompt)\n",
    "    evaluation = json.loads(evaluation[0])\n",
    "    \n",
    "    ssc_evaluations_n5.append((record, rag_answer, evaluation))\n",
    "    \n",
    "    time.sleep(5)"
   ]
  },
  {
   "cell_type": "code",
   "execution_count": 158,
   "metadata": {},
   "outputs": [],
   "source": [
    "df_ssc_eval_n5 = pd.DataFrame(\n",
    "    ssc_evaluations_n5, columns=[\"record\", \"answer\", \"evaluation\"]\n",
    ")\n",
    "\n",
    "df_ssc_eval_n5['id'] = df_ssc_eval_n5.record.apply(lambda d: d['id'])\n",
    "df_ssc_eval_n5['question'] = df_ssc_eval_n5.record.apply(lambda d: d['question'])\n",
    "\n",
    "df_ssc_eval_n5['relevance'] = df_ssc_eval_n5.evaluation.apply(lambda d: d['Relevance'])\n",
    "df_ssc_eval_n5['explanation'] = df_ssc_eval_n5.evaluation.apply(lambda d: d['Explanation'])\n",
    "\n",
    "del df_ssc_eval_n5['record']\n",
    "del df_ssc_eval_n5['evaluation']\n",
    "\n",
    "df_ssc_eval_n5.to_csv(\n",
    "    os.path.join(project_path, \"data\", \"testing\", \"rag-eval-ssc-n5.csv\")\n",
    ")"
   ]
  },
  {
   "cell_type": "markdown",
   "metadata": {},
   "source": [
    "with n = 10"
   ]
  },
  {
   "cell_type": "code",
   "execution_count": 110,
   "metadata": {},
   "outputs": [
    {
     "name": "stderr",
     "output_type": "stream",
     "text": [
      "100%|██████████| 200/200 [45:49<00:00, 13.75s/it]\n"
     ]
    }
   ],
   "source": [
    "ssc_evaluations_n10 = []\n",
    "for record in tqdm(ssc_sample):\n",
    "    \n",
    "    question = record['question']\n",
    "    rag_answer = ssc_rag.answer(question, search=\"elasticsearch\", n_results=10)\n",
    "    time.sleep(5)\n",
    "    prompt = evaluation_prompt_template.format(\n",
    "        question=question,llm_answer=rag_answer\n",
    "    )\n",
    "    evaluation = ssc_rag.llm(prompt)\n",
    "    evaluation = json.loads(evaluation[0])\n",
    "    \n",
    "    ssc_evaluations_n10.append((record, rag_answer, evaluation))\n",
    "    \n",
    "    time.sleep(5)"
   ]
  },
  {
   "cell_type": "code",
   "execution_count": 159,
   "metadata": {},
   "outputs": [],
   "source": [
    "df_ssc_eval_n10 = pd.DataFrame(\n",
    "    ssc_evaluations_n10, columns=[\"record\", \"answer\", \"evaluation\"]\n",
    ")\n",
    "\n",
    "df_ssc_eval_n10['id'] = df_ssc_eval_n10.record.apply(lambda d: d['id'])\n",
    "df_ssc_eval_n10['question'] = df_ssc_eval_n10.record.apply(lambda d: d['question'])\n",
    "\n",
    "df_ssc_eval_n10['relevance'] = df_ssc_eval_n10.evaluation.apply(lambda d: d['Relevance'])\n",
    "df_ssc_eval_n10['explanation'] = df_ssc_eval_n10.evaluation.apply(lambda d: d['Explanation'])\n",
    "\n",
    "del df_ssc_eval_n10['record']\n",
    "del df_ssc_eval_n10['evaluation']\n",
    "\n",
    "df_ssc_eval_n10.to_csv(\n",
    "    os.path.join(project_path, \"data\", \"testing\", \"rag-eval-ssc-n10.csv\")\n",
    ")"
   ]
  },
  {
   "cell_type": "markdown",
   "metadata": {},
   "source": [
    "with n = 20"
   ]
  },
  {
   "cell_type": "code",
   "execution_count": 112,
   "metadata": {},
   "outputs": [
    {
     "name": "stderr",
     "output_type": "stream",
     "text": [
      "100%|██████████| 200/200 [54:57<00:00, 16.49s/it] \n"
     ]
    }
   ],
   "source": [
    "ssc_evaluations_n20 = []\n",
    "for record in tqdm(ssc_sample):\n",
    "    \n",
    "    question = record['question']\n",
    "    rag_answer = ssc_rag.answer(question, search=\"elasticsearch\", n_results=20)\n",
    "    time.sleep(5)\n",
    "    prompt = evaluation_prompt_template.format(\n",
    "        question=question,llm_answer=rag_answer\n",
    "    )\n",
    "    evaluation = ssc_rag.llm(prompt)\n",
    "    evaluation = json.loads(evaluation[0])\n",
    "    \n",
    "    ssc_evaluations_n20.append((record, rag_answer, evaluation))\n",
    "    \n",
    "    time.sleep(5)"
   ]
  },
  {
   "cell_type": "code",
   "execution_count": 160,
   "metadata": {},
   "outputs": [],
   "source": [
    "df_ssc_eval_n20 = pd.DataFrame(\n",
    "    ssc_evaluations_n20, columns=[\"record\", \"answer\", \"evaluation\"]\n",
    ")\n",
    "\n",
    "df_ssc_eval_n20['id'] = df_ssc_eval_n20.record.apply(lambda d: d['id'])\n",
    "df_ssc_eval_n20['question'] = df_ssc_eval_n20.record.apply(lambda d: d['question'])\n",
    "\n",
    "df_ssc_eval_n20['relevance'] = df_ssc_eval_n20.evaluation.apply(lambda d: d['Relevance'])\n",
    "df_ssc_eval_n20['explanation'] = df_ssc_eval_n20.evaluation.apply(lambda d: d['Explanation'])\n",
    "\n",
    "del df_ssc_eval_n20['record']\n",
    "del df_ssc_eval_n20['evaluation']\n",
    "\n",
    "df_ssc_eval_n20.to_csv(\n",
    "    os.path.join(project_path, \"data\", \"testing\", \"rag-eval-ssc-n20.csv\")\n",
    ")"
   ]
  },
  {
   "cell_type": "code",
   "execution_count": 16,
   "metadata": {},
   "outputs": [],
   "source": [
    "df_ssc_eval_n20 = pd.read_csv(\n",
    "    os.path.join(project_path, 'data', 'testing', 'rag-eval-ssc-n20.csv')\n",
    ")"
   ]
  },
  {
   "cell_type": "markdown",
   "metadata": {},
   "source": [
    "## Results analysis\n",
    "\n",
    "Finally we are going to check the evaluation metrics for the retrieval and the results of the LLM as a judge evaluation for each case to determine wich alternative is the best. The criteria are as follow:\n",
    "\n",
    "* The best alternative should have the best retrieval metrics while mainanting good evaluation by the LLM as a judge algorithm\n",
    "* If the performance between two alternatives is similar, following the prnciple of parsimony, the least computationally expensive to chunk will be selected\n"
   ]
  },
  {
   "cell_type": "code",
   "execution_count": 147,
   "metadata": {},
   "outputs": [],
   "source": [
    "def plot_relevance_distribution(df_eval_n5, df_eval_n10, df_eval_n20):\n",
    "    \"\"\"\n",
    "    Plots the distribution of the 'relevance' column for the given dataframes.\n",
    "\n",
    "    Args:\n",
    "        df_eval_n5 (pd.DataFrame): DataFrame containing relevance data for n=5.\n",
    "        df_eval_n10 (pd.DataFrame): DataFrame containing relevance data for n=10.\n",
    "        df_eval_n20 (pd.DataFrame): DataFrame containing relevance data for n=20.\n",
    "\n",
    "    Returns:\n",
    "        None\n",
    "    \"\"\"\n",
    "    # Create copies of the dataframes to avoid modifying the original dataframes\n",
    "    df_eval_n5_copy = df_eval_n5.copy()\n",
    "    df_eval_n10_copy = df_eval_n10.copy()\n",
    "    df_eval_n20_copy = df_eval_n20.copy()\n",
    "    \n",
    "    # Add 'n' column to each copied dataframe\n",
    "    df_eval_n5_copy['n'] = 'n=5'\n",
    "    df_eval_n10_copy['n'] = 'n=10'\n",
    "    df_eval_n20_copy['n'] = 'n=20'\n",
    "    \n",
    "    # Combine the copied dataframes into a single dataframe for plotting\n",
    "    combined_df = pd.concat([df_eval_n5_copy, df_eval_n10_copy, df_eval_n20_copy])\n",
    "    \n",
    "    # Plot the distribution of the 'relevance' column\n",
    "    plt.figure(figsize=(12, 6))\n",
    "    sns.countplot(data=combined_df, x='relevance', hue='n')\n",
    "    plt.title('Relevance Distribution for Different n Values')\n",
    "    plt.xlabel('Relevance')\n",
    "    plt.ylabel('Count')\n",
    "    plt.legend(title='n')\n",
    "    plt.show()\n",
    "    \n",
    "    # Print the value counts for the combined dataframe grouped by 'n'\n",
    "    print(combined_df.groupby('n')['relevance'].value_counts(normalize=True))"
   ]
  },
  {
   "cell_type": "markdown",
   "metadata": {},
   "source": [
    "### Sentence splitting"
   ]
  },
  {
   "cell_type": "code",
   "execution_count": 148,
   "metadata": {},
   "outputs": [
    {
     "data": {
      "image/png": "[encoded data removed]",
      "text/plain": [
       "<Figure size 1200x600 with 1 Axes>"
      ]
     },
     "metadata": {},
     "output_type": "display_data"
    },
    {
     "name": "stdout",
     "output_type": "stream",
     "text": [
      "n     relevance      \n",
      "n=10  PARTLY_RELEVANT    0.410\n",
      "      RELEVANT           0.315\n",
      "      NON_RELEVANT       0.275\n",
      "n=20  PARTLY_RELEVANT    0.450\n",
      "      RELEVANT           0.310\n",
      "      NON_RELEVANT       0.240\n",
      "n=5   PARTLY_RELEVANT    0.365\n",
      "      RELEVANT           0.320\n",
      "      NON_RELEVANT       0.315\n",
      "Name: proportion, dtype: float64\n"
     ]
    }
   ],
   "source": [
    "plot_relevance_distribution(df_ss_eval_n5, df_ss_eval_n10, df_ss_eval_n20)"
   ]
  },
  {
   "cell_type": "code",
   "execution_count": 149,
   "metadata": {},
   "outputs": [
    {
     "name": "stderr",
     "output_type": "stream",
     "text": [
      "100%|██████████| 770/770 [02:23<00:00,  5.37it/s]\n"
     ]
    },
    {
     "data": {
      "text/plain": [
       "{'hit_rate': 0.36363636363636365, 'mmr': 0.3025541125541126}"
      ]
     },
     "execution_count": 149,
     "metadata": {},
     "output_type": "execute_result"
    }
   ],
   "source": [
    "evaluate(ss_gt_docs, lambda q: ss_rag.elasticsearch(q['question'],n_results=5))"
   ]
  },
  {
   "cell_type": "code",
   "execution_count": 150,
   "metadata": {},
   "outputs": [
    {
     "name": "stderr",
     "output_type": "stream",
     "text": [
      "100%|██████████| 770/770 [02:28<00:00,  5.19it/s]\n"
     ]
    },
    {
     "data": {
      "text/plain": [
       "{'hit_rate': 0.3974025974025974, 'mmr': 0.3081601731601731}"
      ]
     },
     "execution_count": 150,
     "metadata": {},
     "output_type": "execute_result"
    }
   ],
   "source": [
    "evaluate(ss_gt_docs, lambda q: ss_rag.elasticsearch(q['question'],n_results=10))"
   ]
  },
  {
   "cell_type": "code",
   "execution_count": 151,
   "metadata": {},
   "outputs": [
    {
     "name": "stderr",
     "output_type": "stream",
     "text": [
      "100%|██████████| 770/770 [02:27<00:00,  5.22it/s]\n"
     ]
    },
    {
     "data": {
      "text/plain": [
       "{'hit_rate': 0.43896103896103894, 'mmr': 0.3171454936019087}"
      ]
     },
     "execution_count": 151,
     "metadata": {},
     "output_type": "execute_result"
    }
   ],
   "source": [
    "evaluate(ss_gt_docs, lambda q: ss_rag.elasticsearch(q['question'],n_results=20))"
   ]
  },
  {
   "cell_type": "markdown",
   "metadata": {},
   "source": [
    "For sentence splitting the best alternative is n=20"
   ]
  },
  {
   "cell_type": "markdown",
   "metadata": {},
   "source": [
    "### Semantic chunking"
   ]
  },
  {
   "cell_type": "code",
   "execution_count": 161,
   "metadata": {},
   "outputs": [
    {
     "data": {
      "image/png": "[encoded data removed]",
      "text/plain": [
       "<Figure size 1200x600 with 1 Axes>"
      ]
     },
     "metadata": {},
     "output_type": "display_data"
    },
    {
     "name": "stdout",
     "output_type": "stream",
     "text": [
      "n     relevance      \n",
      "n=10  RELEVANT           0.380\n",
      "      NON_RELEVANT       0.325\n",
      "      PARTLY_RELEVANT    0.295\n",
      "n=20  PARTLY_RELEVANT    0.355\n",
      "      RELEVANT           0.335\n",
      "      NON_RELEVANT       0.310\n",
      "n=5   PARTLY_RELEVANT    0.375\n",
      "      RELEVANT           0.335\n",
      "      NON_RELEVANT       0.290\n",
      "Name: proportion, dtype: float64\n"
     ]
    }
   ],
   "source": [
    "plot_relevance_distribution(df_sc_eval_n5, df_sc_eval_n10, df_sc_eval_n20)"
   ]
  },
  {
   "cell_type": "code",
   "execution_count": 153,
   "metadata": {},
   "outputs": [
    {
     "name": "stderr",
     "output_type": "stream",
     "text": [
      "100%|██████████| 770/770 [02:21<00:00,  5.45it/s]\n"
     ]
    },
    {
     "name": "stdout",
     "output_type": "stream",
     "text": [
      "{'hit_rate': 0.509090909090909, 'mmr': 0.4250649350649349}\n"
     ]
    },
    {
     "name": "stderr",
     "output_type": "stream",
     "text": [
      "100%|██████████| 770/770 [02:37<00:00,  4.89it/s]\n"
     ]
    },
    {
     "name": "stdout",
     "output_type": "stream",
     "text": [
      "{'hit_rate': 0.5363636363636364, 'mmr': 0.4274397031539888}\n"
     ]
    },
    {
     "name": "stderr",
     "output_type": "stream",
     "text": [
      "100%|██████████| 770/770 [02:39<00:00,  4.81it/s]\n"
     ]
    },
    {
     "name": "stdout",
     "output_type": "stream",
     "text": [
      "{'hit_rate': 0.577922077922078, 'mmr': 0.4303191032159509}\n"
     ]
    }
   ],
   "source": [
    "print(\n",
    "    evaluate(sc_gt_docs, lambda q: sc_rag.elasticsearch(q['question'],n_results=5))\n",
    ")\n",
    "print(\n",
    "    evaluate(sc_gt_docs, lambda q: sc_rag.elasticsearch(q['question'],n_results=10))\n",
    ")\n",
    "print(\n",
    "    evaluate(sc_gt_docs, lambda q: sc_rag.elasticsearch(q['question'],n_results=20))\n",
    ")"
   ]
  },
  {
   "cell_type": "markdown",
   "metadata": {},
   "source": [
    "### Sequential Semantic Chunking"
   ]
  },
  {
   "cell_type": "code",
   "execution_count": 162,
   "metadata": {},
   "outputs": [
    {
     "data": {
      "image/png": "[encoded data removed]",
      "text/plain": [
       "<Figure size 1200x600 with 1 Axes>"
      ]
     },
     "metadata": {},
     "output_type": "display_data"
    },
    {
     "name": "stdout",
     "output_type": "stream",
     "text": [
      "n     relevance      \n",
      "n=10  RELEVANT           0.405\n",
      "      PARTLY_RELEVANT    0.330\n",
      "      NON_RELEVANT       0.265\n",
      "n=20  RELEVANT           0.470\n",
      "      PARTLY_RELEVANT    0.300\n",
      "      NON_RELEVANT       0.230\n",
      "n=5   RELEVANT           0.405\n",
      "      PARTLY_RELEVANT    0.330\n",
      "      NON_RELEVANT       0.265\n",
      "Name: proportion, dtype: float64\n"
     ]
    }
   ],
   "source": [
    "plot_relevance_distribution(df_ssc_eval_n5, df_ssc_eval_n10, df_ssc_eval_n20)"
   ]
  },
  {
   "cell_type": "code",
   "execution_count": 163,
   "metadata": {},
   "outputs": [
    {
     "name": "stderr",
     "output_type": "stream",
     "text": [
      "100%|██████████| 770/770 [02:28<00:00,  5.17it/s]\n"
     ]
    },
    {
     "name": "stdout",
     "output_type": "stream",
     "text": [
      "{'hit_rate': 0.5727272727272728, 'mmr': 0.4379220779220776}\n"
     ]
    },
    {
     "name": "stderr",
     "output_type": "stream",
     "text": [
      "100%|██████████| 770/770 [02:34<00:00,  4.98it/s]\n"
     ]
    },
    {
     "name": "stdout",
     "output_type": "stream",
     "text": [
      "{'hit_rate': 0.6337662337662338, 'mmr': 0.4343532261389403}\n"
     ]
    },
    {
     "name": "stderr",
     "output_type": "stream",
     "text": [
      "100%|██████████| 770/770 [02:39<00:00,  4.82it/s]"
     ]
    },
    {
     "name": "stdout",
     "output_type": "stream",
     "text": [
      "{'hit_rate': 0.6935064935064935, 'mmr': 0.4245872798657163}\n"
     ]
    },
    {
     "name": "stderr",
     "output_type": "stream",
     "text": [
      "\n"
     ]
    }
   ],
   "source": [
    "print(\n",
    "    evaluate(ssc_gt_docs, lambda q: ssc_rag.elasticsearch(q['question'],n_results=5))\n",
    ")\n",
    "print(\n",
    "    evaluate(ssc_gt_docs, lambda q: ssc_rag.elasticsearch(q['question'],n_results=10))\n",
    ")\n",
    "print(\n",
    "    evaluate(ssc_gt_docs, lambda q: ssc_rag.elasticsearch(q['question'],n_results=20))\n",
    ")"
   ]
  },
  {
   "cell_type": "markdown",
   "metadata": {},
   "source": [
    "Given the results obtained with the sequential semantic chunking, which were progresively better as n grow bigger, we will also test for n=30 and n=50, as check for some different options for alpha:"
   ]
  },
  {
   "cell_type": "markdown",
   "metadata": {},
   "source": [
    "n = 30"
   ]
  },
  {
   "cell_type": "code",
   "execution_count": 164,
   "metadata": {},
   "outputs": [
    {
     "name": "stderr",
     "output_type": "stream",
     "text": [
      "100%|██████████| 200/200 [56:22<00:00, 16.91s/it]\n"
     ]
    }
   ],
   "source": [
    "ssc_evaluations_n30 = []\n",
    "for record in tqdm(ssc_sample):\n",
    "    \n",
    "    question = record['question']\n",
    "    rag_answer = ssc_rag.answer(question, search=\"elasticsearch\", n_results=30)\n",
    "    time.sleep(5)\n",
    "    prompt = evaluation_prompt_template.format(\n",
    "        question=question,llm_answer=rag_answer\n",
    "    )\n",
    "    evaluation = ssc_rag.llm(prompt)\n",
    "    evaluation = json.loads(evaluation[0])\n",
    "    \n",
    "    ssc_evaluations_n30.append((record, rag_answer, evaluation))\n",
    "    \n",
    "    time.sleep(5)  \n"
   ]
  },
  {
   "cell_type": "code",
   "execution_count": 165,
   "metadata": {},
   "outputs": [],
   "source": [
    "df_ssc_eval_n30 = pd.DataFrame(\n",
    "    ssc_evaluations_n30, columns=[\"record\", \"answer\", \"evaluation\"]\n",
    ")\n",
    "\n",
    "df_ssc_eval_n30['id'] = df_ssc_eval_n30.record.apply(lambda d: d['id'])\n",
    "df_ssc_eval_n30['question'] = df_ssc_eval_n30.record.apply(lambda d: d['question'])\n",
    "\n",
    "df_ssc_eval_n30['relevance'] = df_ssc_eval_n30.evaluation.apply(lambda d: d['Relevance'])\n",
    "df_ssc_eval_n30['explanation'] = df_ssc_eval_n30.evaluation.apply(lambda d: d['Explanation'])\n",
    "\n",
    "del df_ssc_eval_n30['record']\n",
    "del df_ssc_eval_n30['evaluation']\n",
    "\n",
    "df_ssc_eval_n30.to_csv(\n",
    "    os.path.join(project_path, \"data\", \"testing\", \"rag-eval-ssc-n30.csv\")\n",
    ")"
   ]
  },
  {
   "cell_type": "code",
   "execution_count": 10,
   "metadata": {},
   "outputs": [],
   "source": [
    "# df_ssc_eval_n30 = pd.read_csv(\n",
    "#     os.path.join(project_path, 'data', 'testing', 'rag-eval-ssc-n30.csv')\n",
    "# )"
   ]
  },
  {
   "cell_type": "markdown",
   "metadata": {},
   "source": [
    "n = 50"
   ]
  },
  {
   "cell_type": "code",
   "execution_count": 13,
   "metadata": {},
   "outputs": [
    {
     "name": "stderr",
     "output_type": "stream",
     "text": [
      "100%|██████████| 200/200 [57:51<00:00, 17.36s/it] \n"
     ]
    }
   ],
   "source": [
    "ssc_evaluations_n50 = []\n",
    "for record in tqdm(ssc_sample):\n",
    "    \n",
    "    question = record['question']\n",
    "    rag_answer = ssc_rag.answer(question, search=\"elasticsearch\", n_results=30)\n",
    "    time.sleep(5)\n",
    "    prompt = evaluation_prompt_template.format(\n",
    "        question=question,llm_answer=rag_answer\n",
    "    )\n",
    "    evaluation = ssc_rag.llm(prompt)\n",
    "    evaluation = json.loads(evaluation[0])\n",
    "    \n",
    "    ssc_evaluations_n50.append((record, rag_answer, evaluation))\n",
    "    \n",
    "    time.sleep(5)  "
   ]
  },
  {
   "cell_type": "code",
   "execution_count": 14,
   "metadata": {},
   "outputs": [],
   "source": [
    "df_ssc_eval_n50 = pd.DataFrame(\n",
    "    ssc_evaluations_n50, columns=[\"record\", \"answer\", \"evaluation\"]\n",
    ")\n",
    "\n",
    "df_ssc_eval_n50['id'] = df_ssc_eval_n50.record.apply(lambda d: d['id'])\n",
    "df_ssc_eval_n50['question'] = df_ssc_eval_n50.record.apply(lambda d: d['question'])\n",
    "\n",
    "df_ssc_eval_n50['relevance'] = df_ssc_eval_n50.evaluation.apply(lambda d: d['Relevance'])\n",
    "df_ssc_eval_n50['explanation'] = df_ssc_eval_n50.evaluation.apply(lambda d: d['Explanation'])\n",
    "\n",
    "del df_ssc_eval_n50['record']\n",
    "del df_ssc_eval_n50['evaluation']\n",
    "\n",
    "df_ssc_eval_n50.to_csv(\n",
    "    os.path.join(project_path, \"data\", \"testing\", \"rag-eval-ssc-n50.csv\")\n",
    ")"
   ]
  },
  {
   "cell_type": "code",
   "execution_count": 17,
   "metadata": {},
   "outputs": [
    {
     "data": {
      "image/png": "[encoded data removed]",
      "text/plain": [
       "<Figure size 1200x600 with 1 Axes>"
      ]
     },
     "metadata": {},
     "output_type": "display_data"
    },
    {
     "name": "stdout",
     "output_type": "stream",
     "text": [
      "n     relevance      \n",
      "n=20  RELEVANT           0.470\n",
      "      PARTLY_RELEVANT    0.300\n",
      "      NON_RELEVANT       0.230\n",
      "n=30  RELEVANT           0.450\n",
      "      PARTLY_RELEVANT    0.315\n",
      "      NON_RELEVANT       0.235\n",
      "n=50  RELEVANT           0.435\n",
      "      PARTLY_RELEVANT    0.330\n",
      "      NON_RELEVANT       0.235\n",
      "Name: proportion, dtype: float64\n"
     ]
    }
   ],
   "source": [
    "def plot_relevance_distribution(df_eval_n20, df_eval_n30, df_eval_n50):\n",
    "    \"\"\"\n",
    "    Plots the distribution of the 'relevance' column for the given dataframes.\n",
    "\n",
    "    Args:\n",
    "        df_eval_n20 (pd.DataFrame): DataFrame containing relevance data for n=20.\n",
    "        df_eval_n30 (pd.DataFrame): DataFrame containing relevance data for n=30.\n",
    "        df_eval_n50 (pd.DataFrame): DataFrame containing relevance data for n=50.\n",
    "\n",
    "    Returns:\n",
    "        None\n",
    "    \"\"\"\n",
    "    # Create copies of the dataframes to avoid modifying the original dataframes\n",
    "    df_eval_n20_copy = df_eval_n20.copy()\n",
    "    df_eval_n30_copy = df_eval_n30.copy()\n",
    "    df_eval_n50_copy = df_eval_n50.copy()\n",
    "    \n",
    "    # Add 'n' column to each copied dataframe\n",
    "    df_eval_n20_copy['n'] = 'n=20'\n",
    "    df_eval_n30_copy['n'] = 'n=30'\n",
    "    df_eval_n50_copy['n'] = 'n=50'\n",
    "    \n",
    "    # Combine the copied dataframes into a single dataframe for plotting\n",
    "    combined_df = pd.concat([df_eval_n20_copy, df_eval_n30_copy, df_eval_n50_copy])\n",
    "    \n",
    "    # Plot the distribution of the 'relevance' column\n",
    "    plt.figure(figsize=(12, 6))\n",
    "    sns.countplot(data=combined_df, x='relevance', hue='n')\n",
    "    plt.title('Relevance Distribution for Different n Values')\n",
    "    plt.xlabel('Relevance')\n",
    "    plt.ylabel('Count')\n",
    "    plt.legend(title='n')\n",
    "    plt.show()\n",
    "    \n",
    "    # Print the value counts for the combined dataframe grouped by 'n'\n",
    "    print(combined_df.groupby('n')['relevance'].value_counts(normalize=True))\n",
    "    \n",
    "plot_relevance_distribution(df_ssc_eval_n20, df_ssc_eval_n30, df_ssc_eval_n50)"
   ]
  },
  {
   "cell_type": "code",
   "execution_count": 18,
   "metadata": {},
   "outputs": [
    {
     "name": "stderr",
     "output_type": "stream",
     "text": [
      "100%|██████████| 770/770 [02:32<00:00,  5.03it/s]\n"
     ]
    },
    {
     "name": "stdout",
     "output_type": "stream",
     "text": [
      "{'hit_rate': 0.6935064935064935, 'mmr': 0.4245872798657163}\n"
     ]
    },
    {
     "name": "stderr",
     "output_type": "stream",
     "text": [
      "100%|██████████| 770/770 [02:34<00:00,  4.99it/s]\n"
     ]
    },
    {
     "name": "stdout",
     "output_type": "stream",
     "text": [
      "{'hit_rate': 0.7285714285714285, 'mmr': 0.41658238608814924}\n"
     ]
    },
    {
     "name": "stderr",
     "output_type": "stream",
     "text": [
      "100%|██████████| 770/770 [02:37<00:00,  4.90it/s]"
     ]
    },
    {
     "name": "stdout",
     "output_type": "stream",
     "text": [
      "{'hit_rate': 0.7727272727272727, 'mmr': 0.40957117519382896}\n"
     ]
    },
    {
     "name": "stderr",
     "output_type": "stream",
     "text": [
      "\n"
     ]
    }
   ],
   "source": [
    "print(\n",
    "    evaluate(ssc_gt_docs, lambda q: ssc_rag.elasticsearch(q['question'],n_results=20))\n",
    ")\n",
    "print(\n",
    "    evaluate(ssc_gt_docs, lambda q: ssc_rag.elasticsearch(q['question'],n_results=30))\n",
    ")\n",
    "print(\n",
    "    evaluate(ssc_gt_docs, lambda q: ssc_rag.elasticsearch(q['question'],n_results=50))\n",
    ")"
   ]
  },
  {
   "cell_type": "markdown",
   "metadata": {},
   "source": [
    "As we can see after 20 once our n gets bigger the relevance of the model's responses start beign worst, as does the MMR. While the hit rate does go up (which was to be expected since we are making the pool of returned answers bigger) it seems that the ammount of non relevant information starts affecting the quality of the rag responses. Therefore, we will use n=20 elements. "
   ]
  },
  {
   "cell_type": "markdown",
   "metadata": {},
   "source": [
    "Finally, we check for different values of alpha:"
   ]
  },
  {
   "cell_type": "code",
   "execution_count": 19,
   "metadata": {},
   "outputs": [
    {
     "name": "stderr",
     "output_type": "stream",
     "text": [
      "100%|██████████| 770/770 [02:32<00:00,  5.05it/s]\n"
     ]
    },
    {
     "name": "stdout",
     "output_type": "stream",
     "text": [
      "{'hit_rate': 0.6766233766233766, 'mmr': 0.4172665759403321}\n"
     ]
    },
    {
     "name": "stderr",
     "output_type": "stream",
     "text": [
      "100%|██████████| 770/770 [02:35<00:00,  4.94it/s]\n"
     ]
    },
    {
     "name": "stdout",
     "output_type": "stream",
     "text": [
      "{'hit_rate': 0.6727272727272727, 'mmr': 0.412622986620061}\n"
     ]
    },
    {
     "name": "stderr",
     "output_type": "stream",
     "text": [
      "100%|██████████| 770/770 [02:45<00:00,  4.66it/s]\n"
     ]
    },
    {
     "name": "stdout",
     "output_type": "stream",
     "text": [
      "{'hit_rate': 0.6571428571428571, 'mmr': 0.4010129772567951}\n"
     ]
    },
    {
     "name": "stderr",
     "output_type": "stream",
     "text": [
      "100%|██████████| 770/770 [02:35<00:00,  4.95it/s]\n"
     ]
    },
    {
     "name": "stdout",
     "output_type": "stream",
     "text": [
      "{'hit_rate': 0.6532467532467533, 'mmr': 0.3963742731341537}\n"
     ]
    },
    {
     "name": "stderr",
     "output_type": "stream",
     "text": [
      "100%|██████████| 770/770 [02:43<00:00,  4.72it/s]"
     ]
    },
    {
     "name": "stdout",
     "output_type": "stream",
     "text": [
      "{'hit_rate': 0.6532467532467533, 'mmr': 0.39319251242505215}\n"
     ]
    },
    {
     "name": "stderr",
     "output_type": "stream",
     "text": [
      "\n"
     ]
    }
   ],
   "source": [
    "print(\n",
    "    evaluate(ssc_gt_docs, lambda q: ssc_rag.elasticsearch(\n",
    "        q['question'], \n",
    "        n_results=20,\n",
    "        alpha=0.85\n",
    "    ))\n",
    ")\n",
    "print(\n",
    "    evaluate(ssc_gt_docs, lambda q: ssc_rag.elasticsearch(\n",
    "        q['question'], \n",
    "        n_results=20,\n",
    "        alpha=0.8\n",
    "    ))\n",
    ")\n",
    "print(\n",
    "    evaluate(ssc_gt_docs, lambda q: ssc_rag.elasticsearch(\n",
    "        q['question'], \n",
    "        n_results=20,\n",
    "        alpha=0.7\n",
    "    ))\n",
    ")\n",
    "print(\n",
    "    evaluate(ssc_gt_docs, lambda q: ssc_rag.elasticsearch(\n",
    "        q['question'], \n",
    "        n_results=20,\n",
    "        alpha=0.6\n",
    "    ))\n",
    ")\n",
    "print(\n",
    "    evaluate(ssc_gt_docs, lambda q: ssc_rag.elasticsearch(\n",
    "        q['question'], \n",
    "        n_results=20,\n",
    "        alpha=0.5\n",
    "    ))\n",
    ")"
   ]
  },
  {
   "cell_type": "code",
   "execution_count": 20,
   "metadata": {},
   "outputs": [
    {
     "name": "stderr",
     "output_type": "stream",
     "text": [
      "100%|██████████| 770/770 [02:38<00:00,  4.87it/s]\n"
     ]
    },
    {
     "name": "stdout",
     "output_type": "stream",
     "text": [
      "{'hit_rate': 0.7610389610389611, 'mmr': 0.43919581313860795}\n"
     ]
    },
    {
     "name": "stderr",
     "output_type": "stream",
     "text": [
      "100%|██████████| 770/770 [02:41<00:00,  4.77it/s]"
     ]
    },
    {
     "name": "stdout",
     "output_type": "stream",
     "text": [
      "{'hit_rate': 0.7935064935064935, 'mmr': 0.4490562441949596}\n"
     ]
    },
    {
     "name": "stderr",
     "output_type": "stream",
     "text": [
      "\n"
     ]
    }
   ],
   "source": [
    "print(\n",
    "    evaluate(ssc_gt_docs, lambda q: ssc_rag.elasticsearch(\n",
    "        q['question'], \n",
    "        n_results=20,\n",
    "        alpha=0.95\n",
    "    ))\n",
    ")\n",
    "print(\n",
    "    evaluate(ssc_gt_docs, lambda q: ssc_rag.elasticsearch(\n",
    "        q['question'], \n",
    "        n_results=20,\n",
    "        alpha=1\n",
    "    ))\n",
    ")"
   ]
  },
  {
   "cell_type": "markdown",
   "metadata": {},
   "source": [
    "como se puede ver, la busqueda sematica pura resulta mucho mejor en este caso que la hybrida. Así, utilizaremos un alpha de 1"
   ]
  },
  {
   "cell_type": "markdown",
   "metadata": {},
   "source": [
    "## Saving best model cofiguration"
   ]
  },
  {
   "cell_type": "markdown",
   "metadata": {},
   "source": [
    "Finally we will save the configuration for the RAG that gave the best performance. We will also upload them to gcs storage, since this will be later adressed again when thinking of our cloud deployment"
   ]
  },
  {
   "cell_type": "code",
   "execution_count": 21,
   "metadata": {},
   "outputs": [
    {
     "name": "stderr",
     "output_type": "stream",
     "text": [
      "c:\\Users\\User\\Documents\\Cursos\\llm_zoomcamp_final_project\\llm-project\\Lib\\site-packages\\google\\auth\\_default.py:76: UserWarning: Your application has authenticated using end user credentials from Google Cloud SDK without a quota project. You might receive a \"quota exceeded\" or \"API not enabled\" error. See the following page for troubleshooting: https://cloud.google.com/docs/authentication/adc-troubleshooting/user-creds. \n",
      "  warnings.warn(_CLOUD_SDK_CREDENTIALS_WARNING)\n"
     ]
    }
   ],
   "source": [
    "from src.storage import StorageManager\n",
    "\n",
    "GCP_PROJECT_ID=os.getenv('GCP_PROJECT_ID')\n",
    "BUCKET=os.getenv('BUCKET')\n",
    "\n",
    "storage_manager = StorageManager(gcp_project=GCP_PROJECT_ID, bucket_name=BUCKET)\n"
   ]
  },
  {
   "cell_type": "code",
   "execution_count": 23,
   "metadata": {},
   "outputs": [],
   "source": [
    "rag_config = {\n",
    "    \"n_results\":20,\n",
    "    \"boost_dict\":ssc_rag.boost_dict,\n",
    "    \"alpha\":1\n",
    "}\n",
    "config_file = os.path.join(project_path, \"src\", \"parameters\", \"rag_config.json\")\n",
    "with open(config_file, \"w\") as file:\n",
    "    json.dump(rag_config, file)"
   ]
  },
  {
   "cell_type": "code",
   "execution_count": 24,
   "metadata": {},
   "outputs": [],
   "source": [
    "storage_manager.upload_file(config_file, \"rag_config.json\")"
   ]
  }
 ],
 "metadata": {
  "kernelspec": {
   "display_name": "llm-project",
   "language": "python",
   "name": "python3"
  },
  "language_info": {
   "codemirror_mode": {
    "name": "ipython",
    "version": 3
   },
   "file_extension": ".py",
   "mimetype": "text/x-python",
   "name": "python",
   "nbconvert_exporter": "python",
   "pygments_lexer": "ipython3",
   "version": "3.12.4"
  }
 },
 "nbformat": 4,
 "nbformat_minor": 2
}
