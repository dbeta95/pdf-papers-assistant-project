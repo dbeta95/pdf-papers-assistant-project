{
 "cells": [
  {
   "cell_type": "markdown",
   "metadata": {},
   "source": [
    "# App design\n",
    "\n",
    "In this notebook we will explore the code needed to set up the app"
   ]
  },
  {
   "cell_type": "code",
   "execution_count": 23,
   "metadata": {},
   "outputs": [],
   "source": [
    "import os \n",
    "import sys\n",
    "import json\n",
    "import tempfile\n",
    "\n",
    "from dotenv import load_dotenv\n",
    "\n",
    "project_path = os.path.dirname(os.getcwd())\n",
    "sys.path.append(project_path)\n",
    "\n",
    "from src.storage import StorageManager\n",
    "from src.rag import RAG\n",
    "\n",
    "load_dotenv(override=True)\n",
    "\n",
    "GOOGLE_API_KEY=os.getenv('GOOGLE_API_KEY')\n",
    "GCP_PROJECT_ID=os.getenv('GCP_PROJECT_ID')\n",
    "BUCKET=os.getenv('BUCKET')\n",
    "INDEX_NAME = os.getenv('INDEX_NAME')\n",
    "ELASTICSEARCH_HOST = 'localhost'\n",
    "ELASTICSEARCH_PORT = os.getenv('ELASTICSEARCH_PORT')\n",
    "EMBEDDING_MODEL = os.getenv('EMBEDDING_MODEL')\n",
    "TEXT_FIELDS = os.getenv('TEXT_FIELDS').split(',')\n",
    "KEYWORD_FIELDS = os.getenv('KEYWORD_FIELDS').split(',')"
   ]
  },
  {
   "cell_type": "code",
   "execution_count": 24,
   "metadata": {},
   "outputs": [],
   "source": [
    "entry_template = \"\"\"\n",
    "category: {category}\n",
    "paper: {paper}\n",
    "text: {text}\n",
    "\"\"\".strip()\n",
    "\n",
    "prompt_template = \"\"\"\n",
    "You are a research assistant specializing in various academic fields. \n",
    "Your task is to provide accurate and concise answers to questions based on the information extracted from the provided research papers.\n",
    "\n",
    "**Question:** {question}\n",
    "\n",
    "**Context:**\n",
    "\n",
    "{context}\n",
    "\n",
    "**Guidelines:**\n",
    "\n",
    "* **Cite your sources:** If you reference specific information from a paper, include the paper title in parentheses, e.g., \"(Attention is all You need)\".\n",
    "* **Prioritize relevance:** Only use information from the context that is directly relevant to the question.\n",
    "* **Be concise:** Provide clear and focused answers without unnecessary elaboration.\n",
    "* **Maintain academic tone:** Use language appropriate for an academic audience.\n",
    "* **If the context doesn't contain enough information to fully answer the question, clearly state that you need more information or that the context doesn't address the question.**\n",
    "\n",
    "**Answer:**\n",
    "\"\"\""
   ]
  },
  {
   "cell_type": "code",
   "execution_count": 25,
   "metadata": {},
   "outputs": [
    {
     "name": "stderr",
     "output_type": "stream",
     "text": [
      "c:\\Users\\User\\Documents\\Cursos\\llm_zoomcamp_final_project\\llm-project\\Lib\\site-packages\\google\\auth\\_default.py:76: UserWarning: Your application has authenticated using end user credentials from Google Cloud SDK without a quota project. You might receive a \"quota exceeded\" or \"API not enabled\" error. See the following page for troubleshooting: https://cloud.google.com/docs/authentication/adc-troubleshooting/user-creds. \n",
      "  warnings.warn(_CLOUD_SDK_CREDENTIALS_WARNING)\n"
     ]
    }
   ],
   "source": [
    "storage_manager = StorageManager(\n",
    "    gcp_project=GCP_PROJECT_ID, \n",
    "    bucket_name=BUCKET\n",
    ")"
   ]
  },
  {
   "cell_type": "code",
   "execution_count": 26,
   "metadata": {},
   "outputs": [],
   "source": [
    "with tempfile.TemporaryDirectory() as tmp_dir:\n",
    "    rag_config_path = os.path.join(tmp_dir, 'rag_config.json')\n",
    "    storage_manager.download_file(rag_config_path, 'rag_config.json')\n",
    "    rag_config = json.load(open(rag_config_path))"
   ]
  },
  {
   "cell_type": "code",
   "execution_count": 17,
   "metadata": {},
   "outputs": [],
   "source": [
    "rag = RAG(api_key=GOOGLE_API_KEY)\n",
    "rag.update_parameters(**rag_config)\n",
    "rag.get_es_manager(\n",
    "    index_name=INDEX_NAME,\n",
    "    text_fields=TEXT_FIELDS,\n",
    "    elasticsearch_host=ELASTICSEARCH_HOST,\n",
    "    elasticsearch_port=ELASTICSEARCH_PORT,\n",
    "    embedding_model_name=EMBEDDING_MODEL\n",
    ")\n",
    "rag.set_prompt_templates(\n",
    "    entry_template=entry_template,\n",
    "    prompt_template=prompt_template\n",
    ")"
   ]
  },
  {
   "cell_type": "code",
   "execution_count": 18,
   "metadata": {},
   "outputs": [],
   "source": [
    "filter_dict = {\"categoy\":\"deeplearning\"}\n",
    "rag.update_parameters(filter_dict=filter_dict)"
   ]
  },
  {
   "cell_type": "code",
   "execution_count": 19,
   "metadata": {},
   "outputs": [
    {
     "data": {
      "text/plain": [
       "{'answer': 'The key idea of the paper \"Attention is all You Need\" is that **attention mechanisms can be used to replace recurrent neural networks (RNNs) in sequence-to-sequence models, achieving state-of-the-art results on machine translation tasks**.  The paper proposes a novel architecture called the Transformer, which relies solely on attention mechanisms to process input sequences and generate output sequences. This eliminates the need for RNNs, which are known to be computationally expensive and struggle with long-term dependencies.  The Transformer\\'s success demonstrates the power of attention mechanisms in capturing complex relationships between elements in a sequence, leading to significant improvements in performance and efficiency. \\n',\n",
       " 'model_used': 'models/gemini-1.5-flash-latest',\n",
       " 'response_time': 2.715599775314331,\n",
       " 'relevance': 'RELEVANT',\n",
       " 'relevance_explanation': 'The answer accurately summarizes the key idea of the paper, highlighting the use of attention mechanisms to replace RNNs in sequence-to-sequence models and the introduction of the Transformer architecture. It also mentions the benefits of this approach, such as improved performance and efficiency.',\n",
       " 'prompt_tokens': 188,\n",
       " 'completion_tokens': 132,\n",
       " 'total_tokens': 320,\n",
       " 'eval_prompt_tokens': 321,\n",
       " 'eval_completion_tokens': 68,\n",
       " 'eval_total_tokens': 389,\n",
       " 'google_cost': 9.8175e-05}"
      ]
     },
     "execution_count": 19,
     "metadata": {},
     "output_type": "execute_result"
    }
   ],
   "source": [
    "rag.answer(\n",
    "    query=\"What is the key idea of the paper 'Attention is all You need'?\",\n",
    "    search=\"elasticsearch\"\n",
    ")"
   ]
  },
  {
   "cell_type": "code",
   "execution_count": 25,
   "metadata": {},
   "outputs": [],
   "source": [
    "from marshmallow import Schema, fields, ValidationError\n",
    "\n",
    "class QuestionSchema(Schema):\n",
    "    question = fields.Str(required=True)\n",
    "    category = fields.Str(required=False)\n",
    "    \n",
    "class FeedbackSchema(Schema):\n",
    "    conversation_id = fields.Str(required=True)\n",
    "    feedback = fields.Int(required=True)"
   ]
  },
  {
   "cell_type": "code",
   "execution_count": 42,
   "metadata": {},
   "outputs": [],
   "source": [
    "request_data = {\n",
    "    \"question\": \"What is the key idea of the paper 'Attention is all You need'?\",\n",
    "    \"category\": \"deeplearning\"\n",
    "}\n"
   ]
  },
  {
   "cell_type": "code",
   "execution_count": 41,
   "metadata": {},
   "outputs": [
    {
     "name": "stdout",
     "output_type": "stream",
     "text": [
      "{'question': ['Missing data for required field.'], 'questionr': ['Unknown field.']}\n"
     ]
    }
   ],
   "source": [
    "question_schema = QuestionSchema()\n",
    "\n",
    "try: \n",
    "    data = question_schema.load(request_data)\n",
    "    question = data.get('question')\n",
    "    category = data.get('category')\n",
    "except ValidationError as err:\n",
    "    print(err.messages)\n",
    "    \n",
    "if category:\n",
    "    filter_dict = {\"category\": category}\n",
    "    rag.update_parameters(filter_dict=filter_dict)"
   ]
  },
  {
   "cell_type": "code",
   "execution_count": 39,
   "metadata": {},
   "outputs": [],
   "source": [
    "category"
   ]
  }
 ],
 "metadata": {
  "kernelspec": {
   "display_name": "llm-project",
   "language": "python",
   "name": "python3"
  },
  "language_info": {
   "codemirror_mode": {
    "name": "ipython",
    "version": 3
   },
   "file_extension": ".py",
   "mimetype": "text/x-python",
   "name": "python",
   "nbconvert_exporter": "python",
   "pygments_lexer": "ipython3",
   "version": "3.12.4"
  }
 },
 "nbformat": 4,
 "nbformat_minor": 2
}
